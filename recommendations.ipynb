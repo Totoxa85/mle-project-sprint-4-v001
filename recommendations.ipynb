{
 "cells": [
  {
   "cell_type": "markdown",
   "id": "f4095ae4-7294-4b28-853e-88d235002c97",
   "metadata": {},
   "source": [
    "# Инициализация"
   ]
  },
  {
   "cell_type": "markdown",
   "id": "2f2318d2-9df8-4911-915e-15b725c44f8a",
   "metadata": {},
   "source": [
    "Загружаем библиотеки необходимые для выполнения кода ноутбука."
   ]
  },
  {
   "cell_type": "code",
   "execution_count": 1,
   "id": "662d04e7-1b0b-4e4a-9ddf-4526d7fef119",
   "metadata": {},
   "outputs": [
    {
     "name": "stderr",
     "output_type": "stream",
     "text": [
      "/home/avoskov/py-3.12/lib/python3.12/site-packages/tqdm/auto.py:21: TqdmWarning: IProgress not found. Please update jupyter and ipywidgets. See https://ipywidgets.readthedocs.io/en/stable/user_install.html\n",
      "  from .autonotebook import tqdm as notebook_tqdm\n"
     ]
    }
   ],
   "source": [
    "import scipy\n",
    "import sklearn.preprocessing\n",
    "import matplotlib.pyplot as plt\n",
    "import seaborn as sns\n",
    "import numpy as np\n",
    "import pandas as pd\n",
    "from sklearn.preprocessing import MinMaxScaler\n",
    "from sklearn.metrics import mean_squared_error, mean_absolute_error\n",
    "from scipy.sparse import csr_matrix\n",
    "from implicit.als import AlternatingLeastSquares\n",
    "from catboost import CatBoostClassifier, Pool\n",
    "#from dotenv import load_dotenv\n",
    "import os\n",
    "#import boto3\n",
    "#from io import BytesIO"
   ]
  },
  {
   "cell_type": "code",
   "execution_count": null,
   "id": "1a4ff82d",
   "metadata": {},
   "outputs": [],
   "source": [
    "load_dotenv(\".env\")"
   ]
  },
  {
   "cell_type": "code",
   "execution_count": null,
   "id": "beab1688",
   "metadata": {},
   "outputs": [],
   "source": [
    "session = boto3.Session(\n",
    "    aws_access_key_id=os.getenv(\"AWS_ACCESS_KEY_ID\"),\n",
    "    aws_secret_access_key=os.getenv(\"AWS_SECRET_ACCESS_KEY\"),\n",
    "    region_name=\"ru-central1\",\n",
    ")\n",
    "\n",
    "s3 = session.client(\n",
    "    \"s3\", \n",
    "    endpoint_url=os.getenv(\"S3_ENDPOINT_URL\"))"
   ]
  },
  {
   "cell_type": "code",
   "execution_count": 2,
   "id": "29cd2e8c",
   "metadata": {},
   "outputs": [],
   "source": [
    "# Путь к бакету и ключам\n",
    "BUCKET_NAME = \"s3-student-mle-20241219-9c48261c0c\"\n",
    "ITEMS_KEY = \"recsys/data/items.parquet\"\n",
    "EVENTS_KEY = \"recsys/data/events.parquet\""
   ]
  },
  {
   "cell_type": "markdown",
   "id": "bf80fbc5-b660-4fac-8fbb-a5cae77313b3",
   "metadata": {},
   "source": [
    "# === ЭТАП 1 ==="
   ]
  },
  {
   "cell_type": "markdown",
   "id": "5263a8b3-fe99-4204-8a2e-105182792c11",
   "metadata": {},
   "source": [
    "# Загрузка первичных данных"
   ]
  },
  {
   "cell_type": "markdown",
   "id": "1b54a6a5-1656-4e3c-99d1-49dc39451d33",
   "metadata": {},
   "source": [
    "Загружаем первичные данные из файлов:\n",
    "- tracks.parquet\n",
    "- catalog_names.parquet\n",
    "- interactions.parquet"
   ]
  },
  {
   "cell_type": "code",
   "execution_count": 3,
   "id": "5d4b8961-3f35-4e58-9d6b-3e2dbd2c4224",
   "metadata": {},
   "outputs": [],
   "source": [
    "# Чтение данных о треках\n",
    "tracks = pd.read_parquet('tracks.parquet')\n",
    "# Чтение данных о названиях\n",
    "catalog_names = pd.read_parquet('catalog_names.parquet')\n",
    "# Чтение данных о взаимодействиях пользователей\n",
    "interactions = pd.read_parquet('interactions.parquet')"
   ]
  },
  {
   "cell_type": "code",
   "execution_count": 4,
   "id": "e431a12f",
   "metadata": {},
   "outputs": [
    {
     "name": "stdout",
     "output_type": "stream",
     "text": [
      "                          albums           artists        genres\n",
      "track_id                                                        \n",
      "88957     [8201, 88361, 6045574]            [3543]  [11, 44, 75]\n",
      "46257838               [6233977]         [4383623]       [3, 75]\n",
      "48263278      [6575614, 7058305]  [678505, 611169]          [68]\n",
      "61200248               [9527234]          [915312]          [11]\n",
      "97110155              [19968185]         [4172355]     [14, 102]\n"
     ]
    }
   ],
   "source": [
    "print(tracks[[\"track_id\", \"albums\", \"artists\", \"genres\"]].sample(5, random_state=52).sort_values(\"track_id\").set_index(\"track_id\").to_string())"
   ]
  },
  {
   "cell_type": "code",
   "execution_count": 5,
   "id": "e6d5b1f4",
   "metadata": {},
   "outputs": [
    {
     "name": "stdout",
     "output_type": "stream",
     "text": [
      "           type                      name\n",
      "id                                       \n",
      "87080     album                  El Cielo\n",
      "4989459   album             Edm Club Hits\n",
      "9088932   track  Let´s Make A Night Of It\n",
      "37540174  track                Чертополох\n",
      "69405644  track             A Lucid Dream\n"
     ]
    }
   ],
   "source": [
    "print(catalog_names[[\"id\", \"type\", \"name\"]].sample(5, random_state=52).sort_values(\"id\").set_index(\"id\").to_string())"
   ]
  },
  {
   "cell_type": "code",
   "execution_count": 6,
   "id": "126d0cf8",
   "metadata": {},
   "outputs": [
    {
     "name": "stdout",
     "output_type": "stream",
     "text": [
      "                  track_seq started_at\n",
      "user_id track_id                      \n",
      "46179   29544272         37 2022-11-23\n",
      "70117   28213677       1055 2022-09-18\n",
      "72819   85090862        270 2022-08-08\n",
      "471152  55682            18 2022-09-10\n",
      "688081  220497          211 2022-02-22\n"
     ]
    }
   ],
   "source": [
    "print(interactions[[\"user_id\", \"track_id\", \"track_seq\", \"started_at\"]].sample(5, random_state=52).sort_values(\"user_id\").set_index([\"user_id\", \"track_id\"]).to_string())"
   ]
  },
  {
   "cell_type": "code",
   "execution_count": 7,
   "id": "affa2c32",
   "metadata": {},
   "outputs": [
    {
     "name": "stdout",
     "output_type": "stream",
     "text": [
      "<class 'pandas.core.frame.DataFrame'>\n",
      "RangeIndex: 1000000 entries, 0 to 999999\n",
      "Data columns (total 4 columns):\n",
      " #   Column    Non-Null Count    Dtype \n",
      "---  ------    --------------    ----- \n",
      " 0   track_id  1000000 non-null  int64 \n",
      " 1   albums    1000000 non-null  object\n",
      " 2   artists   1000000 non-null  object\n",
      " 3   genres    1000000 non-null  object\n",
      "dtypes: int64(1), object(3)\n",
      "memory usage: 30.5+ MB\n"
     ]
    }
   ],
   "source": [
    "tracks.info()"
   ]
  },
  {
   "cell_type": "code",
   "execution_count": 8,
   "id": "e1f5d3e7",
   "metadata": {},
   "outputs": [
    {
     "name": "stdout",
     "output_type": "stream",
     "text": [
      "<class 'pandas.core.frame.DataFrame'>\n",
      "RangeIndex: 1812471 entries, 0 to 1812470\n",
      "Data columns (total 3 columns):\n",
      " #   Column  Dtype \n",
      "---  ------  ----- \n",
      " 0   id      int64 \n",
      " 1   type    object\n",
      " 2   name    object\n",
      "dtypes: int64(1), object(2)\n",
      "memory usage: 41.5+ MB\n"
     ]
    }
   ],
   "source": [
    "catalog_names.info()"
   ]
  },
  {
   "cell_type": "code",
   "execution_count": 9,
   "id": "1c3a1ee2",
   "metadata": {},
   "outputs": [
    {
     "name": "stdout",
     "output_type": "stream",
     "text": [
      "<class 'pandas.core.frame.DataFrame'>\n",
      "Index: 222629898 entries, 0 to 291\n",
      "Data columns (total 4 columns):\n",
      " #   Column      Dtype         \n",
      "---  ------      -----         \n",
      " 0   user_id     int32         \n",
      " 1   track_id    int32         \n",
      " 2   track_seq   int16         \n",
      " 3   started_at  datetime64[ns]\n",
      "dtypes: datetime64[ns](1), int16(1), int32(2)\n",
      "memory usage: 5.4 GB\n"
     ]
    }
   ],
   "source": [
    "interactions.info()"
   ]
  },
  {
   "cell_type": "markdown",
   "id": "e8f2a1f7-a05f-4f39-af90-5f4018aa6f9d",
   "metadata": {},
   "source": [
    "# Обзор данных"
   ]
  },
  {
   "cell_type": "markdown",
   "id": "46a85307-896c-4fac-9fcf-f0dffa90889e",
   "metadata": {},
   "source": [
    "Проверяем данные, есть ли с ними явные проблемы."
   ]
  },
  {
   "cell_type": "code",
   "execution_count": 11,
   "id": "112f176f",
   "metadata": {},
   "outputs": [
    {
     "name": "stdout",
     "output_type": "stream",
     "text": [
      "Треки с пустыми альбомами: 18\n",
      "Треки с пустыми исполнителями: 15369\n",
      "Треки с пустыми жанрами: 3687\n"
     ]
    }
   ],
   "source": [
    "# Проверка на наличие пустых списков\n",
    "empty_albums = tracks[tracks['albums'].apply(len) == 0]\n",
    "empty_artists = tracks[tracks['artists'].apply(len) == 0]\n",
    "empty_genres = tracks[tracks['genres'].apply(len) == 0]\n",
    "\n",
    "print(f\"Треки с пустыми альбомами: {len(empty_albums)}\")\n",
    "print(f\"Треки с пустыми исполнителями: {len(empty_artists)}\")\n",
    "print(f\"Треки с пустыми жанрами: {len(empty_genres)}\")"
   ]
  },
  {
   "cell_type": "code",
   "execution_count": 12,
   "id": "d5ef7eb9",
   "metadata": {},
   "outputs": [],
   "source": [
    "tracks['track_id'] = tracks['track_id'].astype('int32')"
   ]
  },
  {
   "cell_type": "markdown",
   "id": "318b573a-9e2d-4808-95db-60cfb8bbdb73",
   "metadata": {
    "editable": true,
    "slideshow": {
     "slide_type": ""
    },
    "tags": []
   },
   "source": [
    "# Выводы"
   ]
  },
  {
   "cell_type": "markdown",
   "id": "caa96e12-36a8-4401-8f11-98627a49ae9d",
   "metadata": {},
   "source": [
    "Приведём выводы по первому знакомству с данными:\n",
    "- есть ли с данными явные проблемы,\n",
    "- какие корректирующие действия (в целом) были предприняты."
   ]
  },
  {
   "cell_type": "markdown",
   "id": "07d12e36",
   "metadata": {},
   "source": [
    "<div class=\"alert alert-success\">\n",
    "<h2> Комментарий студента</h2>\n",
    "\n",
    "1) Выводы:\n",
    " - Данные разрознены по типам tracs и interactions\n",
    " - Есть пустые значения в tracs\n",
    " - Слишком большой DataSet interactions\n",
    "\n",
    "2) Действия:\n",
    " - Привел все идентификаторы к типу int32.\n",
    " - после объединения tracs и catalog_names пустые значения заполню строками типа Unknown Album и т.д.\n",
    " - взял только те треки которые вошли в топ 25 у пользователя. (interactions = interactions.query(\"track_seq <= 25\")).Получилось 30983548\n",
    "\n",
    "</div>"
   ]
  },
  {
   "cell_type": "markdown",
   "id": "7bc3296b-eba6-4333-a78d-b9304aa87e3d",
   "metadata": {},
   "source": [
    "# === ЭТАП 2 ==="
   ]
  },
  {
   "cell_type": "markdown",
   "id": "68e73960-fd38-4e15-8db0-9a25c35dfd25",
   "metadata": {},
   "source": [
    "# EDA"
   ]
  },
  {
   "cell_type": "markdown",
   "id": "a30e823e-8e0f-4a76-a02e-8d1ba8bf0f8a",
   "metadata": {},
   "source": [
    "Распределение количества прослушанных треков."
   ]
  },
  {
   "cell_type": "code",
   "execution_count": 4,
   "id": "31f44e66",
   "metadata": {},
   "outputs": [
    {
     "name": "stdout",
     "output_type": "stream",
     "text": [
      "count    1000000.000000\n",
      "mean         222.629898\n",
      "std         1369.930708\n",
      "min            5.000000\n",
      "25%            9.000000\n",
      "50%           19.000000\n",
      "75%           67.000000\n",
      "max       111062.000000\n",
      "Name: count, dtype: float64\n"
     ]
    }
   ],
   "source": [
    "# Подсчет количества прослушиваний для каждого трека\n",
    "track_play_counts = interactions['track_id'].value_counts()\n",
    "\n",
    "# Описание распределения\n",
    "print(track_play_counts.describe())"
   ]
  },
  {
   "cell_type": "code",
   "execution_count": 5,
   "id": "936d3a87",
   "metadata": {},
   "outputs": [
    {
     "data": {
      "image/png": "[encoded data removed]",
      "text/plain": [
       "<Figure size 1000x600 with 1 Axes>"
      ]
     },
     "metadata": {},
     "output_type": "display_data"
    }
   ],
   "source": [
    "# Сортируем данные по количеству прослушиваний\n",
    "track_play_counts_sorted = track_play_counts.sort_values(ascending=False).head(100)\n",
    "\n",
    "# Построение столбчатой диаграммы\n",
    "plt.figure(figsize=(10, 6))\n",
    "track_play_counts_sorted.plot(kind='bar', color='skyblue')\n",
    "plt.xlabel('Track ID')\n",
    "plt.ylabel('Number of Plays')\n",
    "plt.title('Distribution of Track Play Counts')\n",
    "plt.xticks(rotation=90)\n",
    "plt.tight_layout()\n",
    "\n",
    "# Показать график\n",
    "plt.show()"
   ]
  },
  {
   "cell_type": "markdown",
   "id": "d765519a-18dd-4d30-9e29-cc2d84cacd79",
   "metadata": {},
   "source": [
    "Наиболее популярные треки"
   ]
  },
  {
   "cell_type": "code",
   "execution_count": 6,
   "id": "483fec0d",
   "metadata": {},
   "outputs": [
    {
     "name": "stdout",
     "output_type": "stream",
     "text": [
      "track_id\n",
      "53404       111062\n",
      "33311009    106921\n",
      "178529      101924\n",
      "35505245     99490\n",
      "65851540     86670\n",
      "24692821     86246\n",
      "32947997     85886\n",
      "51241318     85244\n",
      "795836       85042\n",
      "45499814     84748\n",
      "Name: count, dtype: int64\n"
     ]
    }
   ],
   "source": [
    "# Получение 10 самых популярных треков\n",
    "most_popular_tracks = track_play_counts.head(10)\n",
    "print(most_popular_tracks)"
   ]
  },
  {
   "cell_type": "code",
   "execution_count": 7,
   "id": "30f6b16e",
   "metadata": {},
   "outputs": [
    {
     "data": {
      "image/png": "[encoded data removed]",
      "text/plain": [
       "<Figure size 1000x600 with 1 Axes>"
      ]
     },
     "metadata": {},
     "output_type": "display_data"
    }
   ],
   "source": [
    "# Построение столбчатой диаграммы\n",
    "plt.figure(figsize=(10, 6))\n",
    "most_popular_tracks.plot(kind='bar', color='skyblue')\n",
    "plt.xlabel('Track ID')\n",
    "plt.ylabel('Number of Plays')\n",
    "plt.title('Distribution of Track Play Counts')\n",
    "plt.xticks(rotation=90)\n",
    "plt.tight_layout()\n",
    "\n",
    "# Показать график\n",
    "plt.show()"
   ]
  },
  {
   "cell_type": "markdown",
   "id": "b1c32a5a-d3be-4f96-8dd9-f7860951020c",
   "metadata": {},
   "source": [
    "Наиболее популярные жанры"
   ]
  },
  {
   "cell_type": "code",
   "execution_count": 10,
   "id": "23a306a7",
   "metadata": {},
   "outputs": [],
   "source": [
    "# Объединение таблиц для получения названий жанров\n",
    "genre_counts = tracks.explode('genres').merge(catalog_names[catalog_names['type'] == 'genre'], left_on='genres', right_on='id', how='left')\n",
    "genre_counts = genre_counts['name'].value_counts()"
   ]
  },
  {
   "cell_type": "code",
   "execution_count": 11,
   "id": "3c41d864",
   "metadata": {},
   "outputs": [
    {
     "name": "stdout",
     "output_type": "stream",
     "text": [
      "name\n",
      "pop            166285\n",
      "rap            128212\n",
      "allrock        118509\n",
      "electronics    114245\n",
      "metal           72311\n",
      "rusrap          65958\n",
      "foreignrap      59778\n",
      "rock            55177\n",
      "dance           51631\n",
      "ruspop          46707\n",
      "Name: count, dtype: int64\n"
     ]
    }
   ],
   "source": [
    "# Получение 10 самых популярных жанров\n",
    "most_popular_genres = genre_counts.head(10)\n",
    "print(most_popular_genres)"
   ]
  },
  {
   "cell_type": "code",
   "execution_count": 12,
   "id": "4d72ff0c",
   "metadata": {},
   "outputs": [
    {
     "name": "stderr",
     "output_type": "stream",
     "text": [
      "/tmp/ipykernel_1897646/332841255.py:6: FutureWarning: \n",
      "\n",
      "Passing `palette` without assigning `hue` is deprecated and will be removed in v0.14.0. Assign the `y` variable to `hue` and set `legend=False` for the same effect.\n",
      "\n",
      "  sns.barplot(x=most_popular_genres.values, y=most_popular_genres.index, palette=\"viridis\")\n"
     ]
    },
    {
     "data": {
      "image/png": "[encoded data removed]",
      "text/plain": [
       "<Figure size 1000x600 with 1 Axes>"
      ]
     },
     "metadata": {},
     "output_type": "display_data"
    }
   ],
   "source": [
    "# Установка стиля seaborn\n",
    "sns.set(style=\"whitegrid\")\n",
    "\n",
    "# Создание столбчатой диаграммы\n",
    "plt.figure(figsize=(10, 6))  # Установка размера фигуры\n",
    "sns.barplot(x=most_popular_genres.values, y=most_popular_genres.index, palette=\"viridis\")\n",
    "\n",
    "# Добавление заголовка и меток осей\n",
    "plt.title('10 Самых популярных жанров')\n",
    "plt.xlabel('Количество треков')\n",
    "plt.ylabel('Название жанра')\n",
    "\n",
    "# Отображение графика\n",
    "plt.show()"
   ]
  },
  {
   "cell_type": "markdown",
   "id": "15254e66-e80e-473b-ba24-abebea5ccac7",
   "metadata": {},
   "source": [
    "Треки, которые никто не прослушал"
   ]
  },
  {
   "cell_type": "code",
   "execution_count": 13,
   "id": "f8d9b8b7",
   "metadata": {},
   "outputs": [
    {
     "name": "stdout",
     "output_type": "stream",
     "text": [
      "Количество треков, которые никто не прослушал: 0\n"
     ]
    }
   ],
   "source": [
    "# Получение треков, которых нет в interactions\n",
    "unheard_tracks = tracks[~tracks['track_id'].isin(interactions['track_id'])]\n",
    "print(f\"Количество треков, которые никто не прослушал: {len(unheard_tracks)}\")"
   ]
  },
  {
   "cell_type": "markdown",
   "id": "0d850a07-ef1e-462f-891a-1cf89f2e24ef",
   "metadata": {},
   "source": [
    "# Преобразование данных"
   ]
  },
  {
   "cell_type": "markdown",
   "id": "fabcf8d2-1192-4df5-b20b-fbb84689f57a",
   "metadata": {},
   "source": [
    "Преобразуем данные в формат, более пригодный для дальнейшего использования в расчётах рекомендаций."
   ]
  },
  {
   "cell_type": "code",
   "execution_count": 17,
   "id": "e12ab1b0",
   "metadata": {},
   "outputs": [],
   "source": [
    "# Создание словарей для быстрого доступа к именам\n",
    "artist_names = dict(catalog_names[catalog_names['type'] == 'artist'][['id', 'name']].values)\n",
    "album_names = dict(catalog_names[catalog_names['type'] == 'album'][['id', 'name']].values)\n",
    "genre_names = dict(catalog_names[catalog_names['type'] == 'genre'][['id', 'name']].values)"
   ]
  },
  {
   "cell_type": "code",
   "execution_count": 18,
   "id": "477974f7",
   "metadata": {},
   "outputs": [],
   "source": [
    "# Функция для замены идентификаторов именами\n",
    "def replace_ids_with_names(ids, names_dict):\n",
    "    return [names_dict.get(id, 'Unknown') for id in ids]"
   ]
  },
  {
   "cell_type": "code",
   "execution_count": 19,
   "id": "a9a98bf7",
   "metadata": {},
   "outputs": [],
   "source": [
    "# Применение функции к столбцам\n",
    "tracks['artists'] = tracks['artists'].apply(lambda ids: replace_ids_with_names(ids, artist_names))\n",
    "tracks['albums'] = tracks['albums'].apply(lambda ids: replace_ids_with_names(ids, album_names))\n",
    "tracks['genres'] = tracks['genres'].apply(lambda ids: replace_ids_with_names(ids, genre_names))"
   ]
  },
  {
   "cell_type": "code",
   "execution_count": 20,
   "id": "e917b876",
   "metadata": {},
   "outputs": [],
   "source": [
    "# Переименование столбцов для ясности\n",
    "tracks.rename(columns={\n",
    "    'albums': 'album_names',\n",
    "    'artists': 'artist_names',\n",
    "    'genres': 'genre_names'\n",
    "}, inplace=True)"
   ]
  },
  {
   "cell_type": "code",
   "execution_count": 21,
   "id": "36455dee",
   "metadata": {},
   "outputs": [],
   "source": [
    "tracks=tracks.explode(\"album_names\")"
   ]
  },
  {
   "cell_type": "code",
   "execution_count": 22,
   "id": "9008f6be",
   "metadata": {},
   "outputs": [],
   "source": [
    "tracks=tracks.explode(\"artist_names\")"
   ]
  },
  {
   "cell_type": "code",
   "execution_count": 23,
   "id": "e72f4b6a",
   "metadata": {},
   "outputs": [],
   "source": [
    "tracks=tracks.explode(\"genre_names\")"
   ]
  },
  {
   "cell_type": "code",
   "execution_count": 24,
   "id": "cb4086a1",
   "metadata": {},
   "outputs": [],
   "source": [
    "tracks = tracks.drop_duplicates()"
   ]
  },
  {
   "cell_type": "code",
   "execution_count": 25,
   "id": "a25070ae",
   "metadata": {},
   "outputs": [],
   "source": [
    "tracks[\"album_names\"] = tracks[\"album_names\"].fillna(\"Unknown Album\")\n",
    "tracks['artist_names'] = tracks['artist_names'].fillna(\"Unknown Singer\")\n",
    "tracks['genre_names'] = tracks['genre_names'].fillna(\"Unknown Genre\")"
   ]
  },
  {
   "cell_type": "code",
   "execution_count": 26,
   "id": "f3c37fe5",
   "metadata": {},
   "outputs": [],
   "source": [
    "interactions = interactions.query(\"track_seq <= 25\")"
   ]
  },
  {
   "cell_type": "markdown",
   "id": "4d1be653-eed8-4fa0-a9c5-3811b080d71d",
   "metadata": {},
   "source": [
    "# Сохранение данных"
   ]
  },
  {
   "cell_type": "markdown",
   "id": "36f1314a-3af3-4faf-a0b1-3045173d1500",
   "metadata": {},
   "source": [
    "Сохраним данные в двух файлах в персональном S3-бакете по пути `recsys/data/`:\n",
    "- `items.parquet` — все данные о музыкальных треках,\n",
    "- `events.parquet` — все данные о взаимодействиях."
   ]
  },
  {
   "cell_type": "code",
   "execution_count": 27,
   "id": "374a774f",
   "metadata": {},
   "outputs": [],
   "source": [
    "tracks.to_parquet(ITEMS_KEY)\n",
    "interactions.to_parquet(EVENTS_KEY)"
   ]
  },
  {
   "cell_type": "code",
   "execution_count": null,
   "id": "9f77af17-7705-4fae-9aad-db579b39faad",
   "metadata": {},
   "outputs": [],
   "source": [
    "# Сохранение данных о треках в BytesIO\n",
    "buffer_items = BytesIO()\n",
    "tracks.to_parquet(buffer_items, engine='pyarrow')\n",
    "buffer_items.seek(0)\n",
    "\n",
    "# Загрузка данных о треках в S3\n",
    "s3.put_object(\n",
    "    Bucket=BUCKET_NAME,\n",
    "    Key=ITEMS_KEY,\n",
    "    Body=buffer_items.getvalue()\n",
    ")"
   ]
  },
  {
   "cell_type": "code",
   "execution_count": null,
   "id": "db1a6f3e",
   "metadata": {},
   "outputs": [],
   "source": [
    "# Сохранение взаимодействий в BytesIO\n",
    "buffer_events = BytesIO()\n",
    "interactions.to_parquet(buffer_events, engine='pyarrow')\n",
    "buffer_events.seek(0)\n",
    "\n",
    "# Загрузка данных о взаимодействиях в S3\n",
    "s3.put_object(\n",
    "    Bucket=BUCKET_NAME,\n",
    "    Key=EVENTS_KEY,\n",
    "    Body=buffer_events.getvalue()\n",
    ")"
   ]
  },
  {
   "cell_type": "markdown",
   "id": "72ecbbed-c560-44d9-9c14-86c7dc76f399",
   "metadata": {},
   "source": [
    "# Очистка памяти"
   ]
  },
  {
   "cell_type": "markdown",
   "id": "b5358ede-ba6e-4c4f-bd73-5b9344f0ba79",
   "metadata": {},
   "source": [
    "Здесь, может понадобится очистка памяти для высвобождения ресурсов для выполнения кода ниже. \n",
    "\n",
    "Приведите соответствующие код, комментарии, например:\n",
    "- код для удаление более ненужных переменных,\n",
    "- комментарий, что следует перезапустить kernel, выполнить такие-то начальные секции и продолжить с этапа 3."
   ]
  },
  {
   "cell_type": "code",
   "execution_count": 28,
   "id": "767fe920-e12e-4ad8-b04e-56e8091fac9f",
   "metadata": {},
   "outputs": [
    {
     "data": {
      "text/plain": [
       "3"
      ]
     },
     "execution_count": 28,
     "metadata": {},
     "output_type": "execute_result"
    }
   ],
   "source": [
    "# Удаление ненужных переменных\n",
    "del interactions\n",
    "del catalog_names\n",
    "del tracks\n",
    "\n",
    "# Принудительная сборка мусора\n",
    "import gc\n",
    "gc.collect()"
   ]
  },
  {
   "cell_type": "markdown",
   "id": "d664728a",
   "metadata": {},
   "source": [
    "### Шаги для перезапуска ядра:\n",
    "\n",
    "1. Перейдите в меню Jupyter Notebook: Kernel -> Restart Kernel.\n",
    "\n",
    "2. Выберите опцию Restart and clear output, если хотите очистить все выводы ячеек.\n",
    "\n",
    "3. После перезапуска ядра выполните секцию Инициализация и продолжите с этапа 3.\n",
    "\n",
    "- После перезапуска ядра выполните необходимые начальные секции, которые настраивают сессию boto3 и загружают необходимые данные из S3:"
   ]
  },
  {
   "cell_type": "markdown",
   "id": "708503df-ee89-4cf3-8489-093dc478e2a8",
   "metadata": {},
   "source": [
    "# === ЭТАП 3 ==="
   ]
  },
  {
   "cell_type": "markdown",
   "id": "fd77de22-e10f-4b42-85c1-8fb6f805fe68",
   "metadata": {},
   "source": [
    "# Загрузка данных"
   ]
  },
  {
   "cell_type": "markdown",
   "id": "780a4241-1ecd-4a3e-bbb3-fc2f6ca94f68",
   "metadata": {},
   "source": [
    "Если необходимо, то загружаем items.parquet, events.parquet."
   ]
  },
  {
   "cell_type": "code",
   "execution_count": null,
   "id": "f19fc8a5-bd2c-40d7-864a-ee75aca6d512",
   "metadata": {},
   "outputs": [],
   "source": [
    "# Загрузка items.parquet\n",
    "response = s3.get_object(Bucket=BUCKET_NAME, Key=ITEMS_KEY)\n",
    "buffer_items = BytesIO(response['Body'].read())\n",
    "items = pd.read_parquet(buffer_items)"
   ]
  },
  {
   "cell_type": "code",
   "execution_count": null,
   "id": "5db1e801-5845-4ce3-86f2-c2fa30f68cc5",
   "metadata": {},
   "outputs": [],
   "source": [
    "# Загрузка events.parquet\n",
    "response = s3.get_object(Bucket=BUCKET_NAME, Key=EVENTS_KEY)\n",
    "buffer_events = BytesIO(response['Body'].read())\n",
    "events = pd.read_parquet(buffer_events)"
   ]
  },
  {
   "cell_type": "code",
   "execution_count": 29,
   "id": "0397ecdb",
   "metadata": {},
   "outputs": [],
   "source": [
    "# Чтение данных о треках\n",
    "items = pd.read_parquet('recsys/data/items.parquet')\n",
    "# Чтение данных о названиях\n",
    "events = pd.read_parquet('recsys/data/events.parquet')"
   ]
  },
  {
   "cell_type": "code",
   "execution_count": 2,
   "id": "59d95dc6",
   "metadata": {},
   "outputs": [],
   "source": [
    "# Чтение данных о треках\n",
    "recomend = pd.read_parquet('recsys/recommendations/recommendations.parquet')\n",
    "# Чтение данных о названиях\n",
    "als = pd.read_parquet('recsys/recommendations/als_recommendations.parquet')\n",
    "\n",
    "sim = pd.read_parquet('recsys/recommendations/similar.parquet')\n",
    "\n",
    "top_pop = pd.read_parquet('recsys/recommendations/top_popular.parquet')"
   ]
  },
  {
   "cell_type": "code",
   "execution_count": 3,
   "id": "4b0b5412",
   "metadata": {},
   "outputs": [
    {
     "data": {
      "text/html": [
       "<div>\n",
       "<style scoped>\n",
       "    .dataframe tbody tr th:only-of-type {\n",
       "        vertical-align: middle;\n",
       "    }\n",
       "\n",
       "    .dataframe tbody tr th {\n",
       "        vertical-align: top;\n",
       "    }\n",
       "\n",
       "    .dataframe thead th {\n",
       "        text-align: right;\n",
       "    }\n",
       "</style>\n",
       "<table border=\"1\" class=\"dataframe\">\n",
       "  <thead>\n",
       "    <tr style=\"text-align: right;\">\n",
       "      <th></th>\n",
       "      <th>user_id</th>\n",
       "      <th>track_id</th>\n",
       "      <th>track_seq</th>\n",
       "      <th>target</th>\n",
       "      <th>listens_years</th>\n",
       "      <th>tracks_listen</th>\n",
       "      <th>rating_avg</th>\n",
       "      <th>rating_std</th>\n",
       "      <th>tracks_per_year</th>\n",
       "      <th>score</th>\n",
       "      <th>rank</th>\n",
       "    </tr>\n",
       "  </thead>\n",
       "  <tbody>\n",
       "    <tr>\n",
       "      <th>72580</th>\n",
       "      <td>15</td>\n",
       "      <td>9563114</td>\n",
       "      <td>0.110771</td>\n",
       "      <td>0</td>\n",
       "      <td>0.013689</td>\n",
       "      <td>20</td>\n",
       "      <td>15.5</td>\n",
       "      <td>5.916080</td>\n",
       "      <td>1461.000000</td>\n",
       "      <td>0.221865</td>\n",
       "      <td>1</td>\n",
       "    </tr>\n",
       "    <tr>\n",
       "      <th>0</th>\n",
       "      <td>15</td>\n",
       "      <td>19606944</td>\n",
       "      <td>0.066244</td>\n",
       "      <td>1</td>\n",
       "      <td>0.013689</td>\n",
       "      <td>20</td>\n",
       "      <td>15.5</td>\n",
       "      <td>5.916080</td>\n",
       "      <td>1461.000000</td>\n",
       "      <td>0.170239</td>\n",
       "      <td>2</td>\n",
       "    </tr>\n",
       "    <tr>\n",
       "      <th>72581</th>\n",
       "      <td>15</td>\n",
       "      <td>19801149</td>\n",
       "      <td>0.074585</td>\n",
       "      <td>0</td>\n",
       "      <td>0.013689</td>\n",
       "      <td>20</td>\n",
       "      <td>15.5</td>\n",
       "      <td>5.916080</td>\n",
       "      <td>1461.000000</td>\n",
       "      <td>0.144947</td>\n",
       "      <td>3</td>\n",
       "    </tr>\n",
       "    <tr>\n",
       "      <th>72579</th>\n",
       "      <td>15</td>\n",
       "      <td>6098688</td>\n",
       "      <td>0.072530</td>\n",
       "      <td>0</td>\n",
       "      <td>0.013689</td>\n",
       "      <td>20</td>\n",
       "      <td>15.5</td>\n",
       "      <td>5.916080</td>\n",
       "      <td>1461.000000</td>\n",
       "      <td>0.133838</td>\n",
       "      <td>4</td>\n",
       "    </tr>\n",
       "    <tr>\n",
       "      <th>72582</th>\n",
       "      <td>15</td>\n",
       "      <td>2772886</td>\n",
       "      <td>0.072067</td>\n",
       "      <td>0</td>\n",
       "      <td>0.013689</td>\n",
       "      <td>20</td>\n",
       "      <td>15.5</td>\n",
       "      <td>5.916080</td>\n",
       "      <td>1461.000000</td>\n",
       "      <td>0.133838</td>\n",
       "      <td>5</td>\n",
       "    </tr>\n",
       "    <tr>\n",
       "      <th>72583</th>\n",
       "      <td>32</td>\n",
       "      <td>79071657</td>\n",
       "      <td>0.220024</td>\n",
       "      <td>0</td>\n",
       "      <td>0.038330</td>\n",
       "      <td>6</td>\n",
       "      <td>21.5</td>\n",
       "      <td>1.870829</td>\n",
       "      <td>156.535714</td>\n",
       "      <td>0.438233</td>\n",
       "      <td>1</td>\n",
       "    </tr>\n",
       "    <tr>\n",
       "      <th>72586</th>\n",
       "      <td>32</td>\n",
       "      <td>38633706</td>\n",
       "      <td>0.219503</td>\n",
       "      <td>0</td>\n",
       "      <td>0.038330</td>\n",
       "      <td>6</td>\n",
       "      <td>21.5</td>\n",
       "      <td>1.870829</td>\n",
       "      <td>156.535714</td>\n",
       "      <td>0.438233</td>\n",
       "      <td>2</td>\n",
       "    </tr>\n",
       "    <tr>\n",
       "      <th>72584</th>\n",
       "      <td>32</td>\n",
       "      <td>76434671</td>\n",
       "      <td>0.332538</td>\n",
       "      <td>0</td>\n",
       "      <td>0.038330</td>\n",
       "      <td>6</td>\n",
       "      <td>21.5</td>\n",
       "      <td>1.870829</td>\n",
       "      <td>156.535714</td>\n",
       "      <td>0.430142</td>\n",
       "      <td>3</td>\n",
       "    </tr>\n",
       "    <tr>\n",
       "      <th>72585</th>\n",
       "      <td>32</td>\n",
       "      <td>32476894</td>\n",
       "      <td>0.229904</td>\n",
       "      <td>0</td>\n",
       "      <td>0.038330</td>\n",
       "      <td>6</td>\n",
       "      <td>21.5</td>\n",
       "      <td>1.870829</td>\n",
       "      <td>156.535714</td>\n",
       "      <td>0.425301</td>\n",
       "      <td>4</td>\n",
       "    </tr>\n",
       "    <tr>\n",
       "      <th>1</th>\n",
       "      <td>32</td>\n",
       "      <td>93390818</td>\n",
       "      <td>0.196666</td>\n",
       "      <td>1</td>\n",
       "      <td>0.038330</td>\n",
       "      <td>6</td>\n",
       "      <td>21.5</td>\n",
       "      <td>1.870829</td>\n",
       "      <td>156.535714</td>\n",
       "      <td>0.420568</td>\n",
       "      <td>5</td>\n",
       "    </tr>\n",
       "  </tbody>\n",
       "</table>\n",
       "</div>"
      ],
      "text/plain": [
       "       user_id  track_id  track_seq  target  listens_years  tracks_listen  \\\n",
       "72580       15   9563114   0.110771       0       0.013689             20   \n",
       "0           15  19606944   0.066244       1       0.013689             20   \n",
       "72581       15  19801149   0.074585       0       0.013689             20   \n",
       "72579       15   6098688   0.072530       0       0.013689             20   \n",
       "72582       15   2772886   0.072067       0       0.013689             20   \n",
       "72583       32  79071657   0.220024       0       0.038330              6   \n",
       "72586       32  38633706   0.219503       0       0.038330              6   \n",
       "72584       32  76434671   0.332538       0       0.038330              6   \n",
       "72585       32  32476894   0.229904       0       0.038330              6   \n",
       "1           32  93390818   0.196666       1       0.038330              6   \n",
       "\n",
       "       rating_avg  rating_std  tracks_per_year     score  rank  \n",
       "72580        15.5    5.916080      1461.000000  0.221865     1  \n",
       "0            15.5    5.916080      1461.000000  0.170239     2  \n",
       "72581        15.5    5.916080      1461.000000  0.144947     3  \n",
       "72579        15.5    5.916080      1461.000000  0.133838     4  \n",
       "72582        15.5    5.916080      1461.000000  0.133838     5  \n",
       "72583        21.5    1.870829       156.535714  0.438233     1  \n",
       "72586        21.5    1.870829       156.535714  0.438233     2  \n",
       "72584        21.5    1.870829       156.535714  0.430142     3  \n",
       "72585        21.5    1.870829       156.535714  0.425301     4  \n",
       "1            21.5    1.870829       156.535714  0.420568     5  "
      ]
     },
     "execution_count": 3,
     "metadata": {},
     "output_type": "execute_result"
    }
   ],
   "source": [
    "recomend.head(10)"
   ]
  },
  {
   "cell_type": "code",
   "execution_count": 8,
   "id": "1953e08a",
   "metadata": {},
   "outputs": [
    {
     "data": {
      "text/plain": [
       "47453"
      ]
     },
     "execution_count": 8,
     "metadata": {},
     "output_type": "execute_result"
    }
   ],
   "source": [
    "recomend[\"user_id\"].nunique()"
   ]
  },
  {
   "cell_type": "code",
   "execution_count": 5,
   "id": "65b99339",
   "metadata": {},
   "outputs": [
    {
     "data": {
      "text/html": [
       "<div>\n",
       "<style scoped>\n",
       "    .dataframe tbody tr th:only-of-type {\n",
       "        vertical-align: middle;\n",
       "    }\n",
       "\n",
       "    .dataframe tbody tr th {\n",
       "        vertical-align: top;\n",
       "    }\n",
       "\n",
       "    .dataframe thead th {\n",
       "        text-align: right;\n",
       "    }\n",
       "</style>\n",
       "<table border=\"1\" class=\"dataframe\">\n",
       "  <thead>\n",
       "    <tr style=\"text-align: right;\">\n",
       "      <th></th>\n",
       "      <th>track_seq</th>\n",
       "      <th>item_id_1</th>\n",
       "      <th>item_id_2</th>\n",
       "    </tr>\n",
       "  </thead>\n",
       "  <tbody>\n",
       "    <tr>\n",
       "      <th>1</th>\n",
       "      <td>0.971078</td>\n",
       "      <td>99262</td>\n",
       "      <td>99245</td>\n",
       "    </tr>\n",
       "    <tr>\n",
       "      <th>2</th>\n",
       "      <td>0.962948</td>\n",
       "      <td>99262</td>\n",
       "      <td>99254</td>\n",
       "    </tr>\n",
       "    <tr>\n",
       "      <th>3</th>\n",
       "      <td>0.956713</td>\n",
       "      <td>99262</td>\n",
       "      <td>99241</td>\n",
       "    </tr>\n",
       "    <tr>\n",
       "      <th>4</th>\n",
       "      <td>0.955401</td>\n",
       "      <td>99262</td>\n",
       "      <td>99257</td>\n",
       "    </tr>\n",
       "    <tr>\n",
       "      <th>5</th>\n",
       "      <td>0.947100</td>\n",
       "      <td>99262</td>\n",
       "      <td>99261</td>\n",
       "    </tr>\n",
       "    <tr>\n",
       "      <th>6</th>\n",
       "      <td>0.932928</td>\n",
       "      <td>99262</td>\n",
       "      <td>99252</td>\n",
       "    </tr>\n",
       "    <tr>\n",
       "      <th>7</th>\n",
       "      <td>0.927500</td>\n",
       "      <td>99262</td>\n",
       "      <td>99247</td>\n",
       "    </tr>\n",
       "    <tr>\n",
       "      <th>8</th>\n",
       "      <td>0.925771</td>\n",
       "      <td>99262</td>\n",
       "      <td>99250</td>\n",
       "    </tr>\n",
       "    <tr>\n",
       "      <th>9</th>\n",
       "      <td>0.896378</td>\n",
       "      <td>99262</td>\n",
       "      <td>95142</td>\n",
       "    </tr>\n",
       "    <tr>\n",
       "      <th>10</th>\n",
       "      <td>0.896351</td>\n",
       "      <td>99262</td>\n",
       "      <td>99239</td>\n",
       "    </tr>\n",
       "  </tbody>\n",
       "</table>\n",
       "</div>"
      ],
      "text/plain": [
       "    track_seq  item_id_1  item_id_2\n",
       "1    0.971078      99262      99245\n",
       "2    0.962948      99262      99254\n",
       "3    0.956713      99262      99241\n",
       "4    0.955401      99262      99257\n",
       "5    0.947100      99262      99261\n",
       "6    0.932928      99262      99252\n",
       "7    0.927500      99262      99247\n",
       "8    0.925771      99262      99250\n",
       "9    0.896378      99262      95142\n",
       "10   0.896351      99262      99239"
      ]
     },
     "execution_count": 5,
     "metadata": {},
     "output_type": "execute_result"
    }
   ],
   "source": [
    "sim.head(10)"
   ]
  },
  {
   "cell_type": "code",
   "execution_count": 4,
   "id": "ef3aabeb",
   "metadata": {},
   "outputs": [
    {
     "data": {
      "text/html": [
       "<div>\n",
       "<style scoped>\n",
       "    .dataframe tbody tr th:only-of-type {\n",
       "        vertical-align: middle;\n",
       "    }\n",
       "\n",
       "    .dataframe tbody tr th {\n",
       "        vertical-align: top;\n",
       "    }\n",
       "\n",
       "    .dataframe thead th {\n",
       "        text-align: right;\n",
       "    }\n",
       "</style>\n",
       "<table border=\"1\" class=\"dataframe\">\n",
       "  <thead>\n",
       "    <tr style=\"text-align: right;\">\n",
       "      <th></th>\n",
       "      <th>track_id</th>\n",
       "      <th>user_id</th>\n",
       "      <th>median_rating</th>\n",
       "      <th>users_norm</th>\n",
       "      <th>median_rating_norm</th>\n",
       "      <th>track_seq</th>\n",
       "      <th>album_names</th>\n",
       "      <th>artist_names</th>\n",
       "      <th>genre_names</th>\n",
       "    </tr>\n",
       "  </thead>\n",
       "  <tbody>\n",
       "    <tr>\n",
       "      <th>0</th>\n",
       "      <td>53404</td>\n",
       "      <td>89299</td>\n",
       "      <td>6.0</td>\n",
       "      <td>1.0</td>\n",
       "      <td>0.208333</td>\n",
       "      <td>0.208333</td>\n",
       "      <td>Nevermind</td>\n",
       "      <td>Nirvana</td>\n",
       "      <td>alternative</td>\n",
       "    </tr>\n",
       "    <tr>\n",
       "      <th>1</th>\n",
       "      <td>53404</td>\n",
       "      <td>89299</td>\n",
       "      <td>6.0</td>\n",
       "      <td>1.0</td>\n",
       "      <td>0.208333</td>\n",
       "      <td>0.208333</td>\n",
       "      <td>Nevermind</td>\n",
       "      <td>Nirvana</td>\n",
       "      <td>rock</td>\n",
       "    </tr>\n",
       "    <tr>\n",
       "      <th>2</th>\n",
       "      <td>53404</td>\n",
       "      <td>89299</td>\n",
       "      <td>6.0</td>\n",
       "      <td>1.0</td>\n",
       "      <td>0.208333</td>\n",
       "      <td>0.208333</td>\n",
       "      <td>Nevermind</td>\n",
       "      <td>Nirvana</td>\n",
       "      <td>allrock</td>\n",
       "    </tr>\n",
       "    <tr>\n",
       "      <th>3</th>\n",
       "      <td>53404</td>\n",
       "      <td>89299</td>\n",
       "      <td>6.0</td>\n",
       "      <td>1.0</td>\n",
       "      <td>0.208333</td>\n",
       "      <td>0.208333</td>\n",
       "      <td>Nirvana</td>\n",
       "      <td>Nirvana</td>\n",
       "      <td>alternative</td>\n",
       "    </tr>\n",
       "    <tr>\n",
       "      <th>4</th>\n",
       "      <td>53404</td>\n",
       "      <td>89299</td>\n",
       "      <td>6.0</td>\n",
       "      <td>1.0</td>\n",
       "      <td>0.208333</td>\n",
       "      <td>0.208333</td>\n",
       "      <td>Nirvana</td>\n",
       "      <td>Nirvana</td>\n",
       "      <td>rock</td>\n",
       "    </tr>\n",
       "    <tr>\n",
       "      <th>5</th>\n",
       "      <td>53404</td>\n",
       "      <td>89299</td>\n",
       "      <td>6.0</td>\n",
       "      <td>1.0</td>\n",
       "      <td>0.208333</td>\n",
       "      <td>0.208333</td>\n",
       "      <td>Nirvana</td>\n",
       "      <td>Nirvana</td>\n",
       "      <td>allrock</td>\n",
       "    </tr>\n",
       "    <tr>\n",
       "      <th>6</th>\n",
       "      <td>53404</td>\n",
       "      <td>89299</td>\n",
       "      <td>6.0</td>\n",
       "      <td>1.0</td>\n",
       "      <td>0.208333</td>\n",
       "      <td>0.208333</td>\n",
       "      <td>Skiing Music</td>\n",
       "      <td>Nirvana</td>\n",
       "      <td>alternative</td>\n",
       "    </tr>\n",
       "    <tr>\n",
       "      <th>7</th>\n",
       "      <td>53404</td>\n",
       "      <td>89299</td>\n",
       "      <td>6.0</td>\n",
       "      <td>1.0</td>\n",
       "      <td>0.208333</td>\n",
       "      <td>0.208333</td>\n",
       "      <td>Skiing Music</td>\n",
       "      <td>Nirvana</td>\n",
       "      <td>rock</td>\n",
       "    </tr>\n",
       "    <tr>\n",
       "      <th>8</th>\n",
       "      <td>53404</td>\n",
       "      <td>89299</td>\n",
       "      <td>6.0</td>\n",
       "      <td>1.0</td>\n",
       "      <td>0.208333</td>\n",
       "      <td>0.208333</td>\n",
       "      <td>Skiing Music</td>\n",
       "      <td>Nirvana</td>\n",
       "      <td>allrock</td>\n",
       "    </tr>\n",
       "    <tr>\n",
       "      <th>9</th>\n",
       "      <td>53404</td>\n",
       "      <td>89299</td>\n",
       "      <td>6.0</td>\n",
       "      <td>1.0</td>\n",
       "      <td>0.208333</td>\n",
       "      <td>0.208333</td>\n",
       "      <td>Smells Like Teen Spirit / In Bloom / On A Plai...</td>\n",
       "      <td>Nirvana</td>\n",
       "      <td>alternative</td>\n",
       "    </tr>\n",
       "  </tbody>\n",
       "</table>\n",
       "</div>"
      ],
      "text/plain": [
       "   track_id  user_id  median_rating  users_norm  median_rating_norm  \\\n",
       "0     53404    89299            6.0         1.0            0.208333   \n",
       "1     53404    89299            6.0         1.0            0.208333   \n",
       "2     53404    89299            6.0         1.0            0.208333   \n",
       "3     53404    89299            6.0         1.0            0.208333   \n",
       "4     53404    89299            6.0         1.0            0.208333   \n",
       "5     53404    89299            6.0         1.0            0.208333   \n",
       "6     53404    89299            6.0         1.0            0.208333   \n",
       "7     53404    89299            6.0         1.0            0.208333   \n",
       "8     53404    89299            6.0         1.0            0.208333   \n",
       "9     53404    89299            6.0         1.0            0.208333   \n",
       "\n",
       "   track_seq                                        album_names artist_names  \\\n",
       "0   0.208333                                          Nevermind      Nirvana   \n",
       "1   0.208333                                          Nevermind      Nirvana   \n",
       "2   0.208333                                          Nevermind      Nirvana   \n",
       "3   0.208333                                            Nirvana      Nirvana   \n",
       "4   0.208333                                            Nirvana      Nirvana   \n",
       "5   0.208333                                            Nirvana      Nirvana   \n",
       "6   0.208333                                       Skiing Music      Nirvana   \n",
       "7   0.208333                                       Skiing Music      Nirvana   \n",
       "8   0.208333                                       Skiing Music      Nirvana   \n",
       "9   0.208333  Smells Like Teen Spirit / In Bloom / On A Plai...      Nirvana   \n",
       "\n",
       "   genre_names  \n",
       "0  alternative  \n",
       "1         rock  \n",
       "2      allrock  \n",
       "3  alternative  \n",
       "4         rock  \n",
       "5      allrock  \n",
       "6  alternative  \n",
       "7         rock  \n",
       "8      allrock  \n",
       "9  alternative  "
      ]
     },
     "execution_count": 4,
     "metadata": {},
     "output_type": "execute_result"
    }
   ],
   "source": [
    "top_pop.head(10)"
   ]
  },
  {
   "cell_type": "code",
   "execution_count": 6,
   "id": "7727373e",
   "metadata": {},
   "outputs": [
    {
     "data": {
      "text/html": [
       "<div>\n",
       "<style scoped>\n",
       "    .dataframe tbody tr th:only-of-type {\n",
       "        vertical-align: middle;\n",
       "    }\n",
       "\n",
       "    .dataframe tbody tr th {\n",
       "        vertical-align: top;\n",
       "    }\n",
       "\n",
       "    .dataframe thead th {\n",
       "        text-align: right;\n",
       "    }\n",
       "</style>\n",
       "<table border=\"1\" class=\"dataframe\">\n",
       "  <thead>\n",
       "    <tr style=\"text-align: right;\">\n",
       "      <th></th>\n",
       "      <th>user_id</th>\n",
       "      <th>track_id</th>\n",
       "      <th>track_seq</th>\n",
       "    </tr>\n",
       "  </thead>\n",
       "  <tbody>\n",
       "    <tr>\n",
       "      <th>0</th>\n",
       "      <td>0</td>\n",
       "      <td>597196</td>\n",
       "      <td>0.344734</td>\n",
       "    </tr>\n",
       "    <tr>\n",
       "      <th>1</th>\n",
       "      <td>0</td>\n",
       "      <td>6006252</td>\n",
       "      <td>0.344717</td>\n",
       "    </tr>\n",
       "    <tr>\n",
       "      <th>2</th>\n",
       "      <td>0</td>\n",
       "      <td>16815100</td>\n",
       "      <td>0.283405</td>\n",
       "    </tr>\n",
       "    <tr>\n",
       "      <th>3</th>\n",
       "      <td>0</td>\n",
       "      <td>9552028</td>\n",
       "      <td>0.282132</td>\n",
       "    </tr>\n",
       "    <tr>\n",
       "      <th>4</th>\n",
       "      <td>0</td>\n",
       "      <td>15397472</td>\n",
       "      <td>0.277151</td>\n",
       "    </tr>\n",
       "    <tr>\n",
       "      <th>5</th>\n",
       "      <td>0</td>\n",
       "      <td>10016611</td>\n",
       "      <td>0.261421</td>\n",
       "    </tr>\n",
       "    <tr>\n",
       "      <th>6</th>\n",
       "      <td>0</td>\n",
       "      <td>16408714</td>\n",
       "      <td>0.256076</td>\n",
       "    </tr>\n",
       "    <tr>\n",
       "      <th>7</th>\n",
       "      <td>0</td>\n",
       "      <td>15397485</td>\n",
       "      <td>0.248963</td>\n",
       "    </tr>\n",
       "    <tr>\n",
       "      <th>8</th>\n",
       "      <td>0</td>\n",
       "      <td>20045346</td>\n",
       "      <td>0.248808</td>\n",
       "    </tr>\n",
       "    <tr>\n",
       "      <th>9</th>\n",
       "      <td>0</td>\n",
       "      <td>2211420</td>\n",
       "      <td>0.248393</td>\n",
       "    </tr>\n",
       "  </tbody>\n",
       "</table>\n",
       "</div>"
      ],
      "text/plain": [
       "   user_id  track_id  track_seq\n",
       "0        0    597196   0.344734\n",
       "1        0   6006252   0.344717\n",
       "2        0  16815100   0.283405\n",
       "3        0   9552028   0.282132\n",
       "4        0  15397472   0.277151\n",
       "5        0  10016611   0.261421\n",
       "6        0  16408714   0.256076\n",
       "7        0  15397485   0.248963\n",
       "8        0  20045346   0.248808\n",
       "9        0   2211420   0.248393"
      ]
     },
     "execution_count": 6,
     "metadata": {},
     "output_type": "execute_result"
    }
   ],
   "source": [
    "als.head(10)"
   ]
  },
  {
   "cell_type": "markdown",
   "id": "a694c023-6477-490b-939d-1cfa6f5f1b72",
   "metadata": {},
   "source": [
    "# Разбиение данных"
   ]
  },
  {
   "cell_type": "markdown",
   "id": "fbd5f6e0-54e7-4428-8678-eabce505d82c",
   "metadata": {},
   "source": [
    "Разбиваем данные на тренировочную, тестовую выборки."
   ]
  },
  {
   "cell_type": "code",
   "execution_count": 30,
   "id": "d55332ae",
   "metadata": {},
   "outputs": [],
   "source": [
    "# Преобразуем столбец started_at в datetime\n",
    "events['started_at'] = pd.to_datetime(events['started_at'])"
   ]
  },
  {
   "cell_type": "code",
   "execution_count": 31,
   "id": "75c3a390",
   "metadata": {},
   "outputs": [],
   "source": [
    "from datetime import datetime"
   ]
  },
  {
   "cell_type": "code",
   "execution_count": 32,
   "id": "617d94ed",
   "metadata": {},
   "outputs": [],
   "source": [
    "# Разделение данных\n",
    "train_cutoff_date = datetime(2022, 12, 16)\n",
    "events_train = events[events['started_at'] < train_cutoff_date]\n",
    "events_test = events[events['started_at'] >= train_cutoff_date]"
   ]
  },
  {
   "cell_type": "markdown",
   "id": "9131c7e6-8852-4556-b510-51f7253cc299",
   "metadata": {},
   "source": [
    "# Топ популярных"
   ]
  },
  {
   "cell_type": "markdown",
   "id": "dd70d43a-88cc-4719-b291-feaed7136f30",
   "metadata": {},
   "source": [
    "Рассчитаем рекомендации как топ популярных."
   ]
  },
  {
   "cell_type": "code",
   "execution_count": 33,
   "id": "d80eefae",
   "metadata": {},
   "outputs": [],
   "source": [
    "# Задаем дату начала для подсчета популярности\n",
    "top_pop_start_date = pd.to_datetime(\"2020-01-01\").date()"
   ]
  },
  {
   "cell_type": "code",
   "execution_count": 34,
   "id": "6d1b5435",
   "metadata": {},
   "outputs": [],
   "source": [
    "# Группируем события по item_id и вычисляем количество уникальных пользователей и средний рейтинг\n",
    "item_popularity = events_train \\\n",
    "    .query(\"started_at >= @top_pop_start_date\") \\\n",
    "    .groupby([\"track_id\"]).agg(user_id=(\"user_id\", \"nunique\"), median_rating=(\"track_seq\", \"median\")).reset_index()"
   ]
  },
  {
   "cell_type": "code",
   "execution_count": 35,
   "id": "383314c9",
   "metadata": {},
   "outputs": [],
   "source": [
    "# Нормализация пользователей и среднего рейтинга, требуется для их приведения к одному масштабу\n",
    "scaler = MinMaxScaler()\n",
    "item_popularity[[\"users_norm\", \"median_rating_norm\"]] = scaler.fit_transform(\n",
    "    item_popularity[[\"user_id\", \"median_rating\"]]\n",
    ")"
   ]
  },
  {
   "cell_type": "code",
   "execution_count": 37,
   "id": "473c31ae",
   "metadata": {},
   "outputs": [],
   "source": [
    "# Вычисляем popularity_score, как скор популярности со штрафом за низкий рейтинг\n",
    "item_popularity[\"track_seq\"] = (\n",
    "    item_popularity[\"users_norm\"] * item_popularity[\"median_rating_norm\"]\n",
    ")\n"
   ]
  },
  {
   "cell_type": "code",
   "execution_count": 38,
   "id": "fd5eac8f",
   "metadata": {},
   "outputs": [],
   "source": [
    "# Сортируем по убыванию track_seq\n",
    "item_popularity = item_popularity.sort_values(by=\"track_seq\", ascending=False).reset_index(drop=True)"
   ]
  },
  {
   "cell_type": "code",
   "execution_count": 39,
   "id": "d1712221",
   "metadata": {},
   "outputs": [],
   "source": [
    "# Выбираем первые 100 айтемов\n",
    "top_k_pop_items = item_popularity.head(100)"
   ]
  },
  {
   "cell_type": "code",
   "execution_count": 40,
   "id": "190fa3b3",
   "metadata": {},
   "outputs": [],
   "source": [
    "# добавляем информацию о треках\n",
    "top_k_pop_items = top_k_pop_items.merge(\n",
    "    items.set_index(\"track_id\")[[\"album_names\", \"artist_names\", \"genre_names\"]], on=\"track_id\")"
   ]
  },
  {
   "cell_type": "code",
   "execution_count": 41,
   "id": "2e193670",
   "metadata": {},
   "outputs": [],
   "source": [
    "top_k_pop_items.to_parquet('recsys/recommendations/top_popular.parquet')"
   ]
  },
  {
   "cell_type": "markdown",
   "id": "2ad231f2-6158-421a-b7fa-01d8bc3ed572",
   "metadata": {},
   "source": [
    "# Персональные"
   ]
  },
  {
   "cell_type": "markdown",
   "id": "86159460-cd9d-4b63-8248-604ea3c9aebf",
   "metadata": {},
   "source": [
    "Рассчитаем персональные рекомендации."
   ]
  },
  {
   "cell_type": "code",
   "execution_count": 42,
   "id": "0011dab0",
   "metadata": {},
   "outputs": [
    {
     "name": "stderr",
     "output_type": "stream",
     "text": [
      "/tmp/ipykernel_1897646/3200732168.py:5: SettingWithCopyWarning: \n",
      "A value is trying to be set on a copy of a slice from a DataFrame.\n",
      "Try using .loc[row_indexer,col_indexer] = value instead\n",
      "\n",
      "See the caveats in the documentation: https://pandas.pydata.org/pandas-docs/stable/user_guide/indexing.html#returning-a-view-versus-a-copy\n",
      "  events_train[\"user_id_enc\"] = user_encoder.transform(events_train[\"user_id\"])\n",
      "/tmp/ipykernel_1897646/3200732168.py:6: SettingWithCopyWarning: \n",
      "A value is trying to be set on a copy of a slice from a DataFrame.\n",
      "Try using .loc[row_indexer,col_indexer] = value instead\n",
      "\n",
      "See the caveats in the documentation: https://pandas.pydata.org/pandas-docs/stable/user_guide/indexing.html#returning-a-view-versus-a-copy\n",
      "  events_test[\"user_id_enc\"] = user_encoder.transform(events_test[\"user_id\"])\n"
     ]
    }
   ],
   "source": [
    "# Перекодируем идентификаторы пользователей:\n",
    "# из имеющихся в последовательность 0, 1, 2, ...\n",
    "user_encoder = sklearn.preprocessing.LabelEncoder()\n",
    "user_encoder.fit(events[\"user_id\"])\n",
    "events_train[\"user_id_enc\"] = user_encoder.transform(events_train[\"user_id\"])\n",
    "events_test[\"user_id_enc\"] = user_encoder.transform(events_test[\"user_id\"])\n"
   ]
  },
  {
   "cell_type": "code",
   "execution_count": 43,
   "id": "e0beb211",
   "metadata": {},
   "outputs": [
    {
     "name": "stderr",
     "output_type": "stream",
     "text": [
      "/tmp/ipykernel_1897646/2277916398.py:6: SettingWithCopyWarning: \n",
      "A value is trying to be set on a copy of a slice from a DataFrame.\n",
      "Try using .loc[row_indexer,col_indexer] = value instead\n",
      "\n",
      "See the caveats in the documentation: https://pandas.pydata.org/pandas-docs/stable/user_guide/indexing.html#returning-a-view-versus-a-copy\n",
      "  events_train[\"track_id_enc\"] = item_encoder.transform(events_train[\"track_id\"])\n",
      "/tmp/ipykernel_1897646/2277916398.py:7: SettingWithCopyWarning: \n",
      "A value is trying to be set on a copy of a slice from a DataFrame.\n",
      "Try using .loc[row_indexer,col_indexer] = value instead\n",
      "\n",
      "See the caveats in the documentation: https://pandas.pydata.org/pandas-docs/stable/user_guide/indexing.html#returning-a-view-versus-a-copy\n",
      "  events_test[\"track_id_enc\"] = item_encoder.transform(events_test[\"track_id\"])\n"
     ]
    }
   ],
   "source": [
    "# Перекодируем идентификаторы объектов:\n",
    "# из имеющихся в последовательность 0, 1, 2, ...\n",
    "item_encoder = sklearn.preprocessing.LabelEncoder()\n",
    "item_encoder.fit(items[\"track_id\"])\n",
    "items[\"track_id_enc\"] = item_encoder.transform(items[\"track_id\"])\n",
    "events_train[\"track_id_enc\"] = item_encoder.transform(events_train[\"track_id\"])\n",
    "events_test[\"track_id_enc\"] = item_encoder.transform(events_test[\"track_id\"])"
   ]
  },
  {
   "cell_type": "code",
   "execution_count": 44,
   "id": "2f0b6fac",
   "metadata": {},
   "outputs": [],
   "source": [
    "# Определяем параметры для ALS-модели\n",
    "factors = 50\n",
    "iterations = 50\n",
    "regularization = 0.05\n",
    "random_state = 0"
   ]
  },
  {
   "cell_type": "code",
   "execution_count": 45,
   "id": "8de0f16c",
   "metadata": {},
   "outputs": [],
   "source": [
    "# создаём sparse-матрицу формата CSR \n",
    "user_item_matrix_train = scipy.sparse.csr_matrix((\n",
    "    events_train[\"track_seq\"],\n",
    "    (events_train['user_id_enc'], events_train['track_id_enc'])),\n",
    "    dtype=np.int8)"
   ]
  },
  {
   "cell_type": "code",
   "execution_count": 46,
   "id": "c06438f5",
   "metadata": {},
   "outputs": [
    {
     "name": "stderr",
     "output_type": "stream",
     "text": [
      "100%|██████████| 50/50 [00:16<00:00,  3.08it/s]\n"
     ]
    }
   ],
   "source": [
    "# Инициализируем и обучаем ALS-модель\n",
    "als_model = AlternatingLeastSquares(factors=factors, iterations=iterations, regularization=regularization, random_state=random_state, num_threads=10)\n",
    "als_model.fit(user_item_matrix_train)"
   ]
  },
  {
   "cell_type": "code",
   "execution_count": 47,
   "id": "ba1216be",
   "metadata": {},
   "outputs": [],
   "source": [
    "# получаем список всех возможных user_id (перекодированных)\n",
    "user_ids_encoded = range(len(user_encoder.classes_))"
   ]
  },
  {
   "cell_type": "code",
   "execution_count": 48,
   "id": "9c37a1b5",
   "metadata": {},
   "outputs": [],
   "source": [
    "# получаем рекомендации для всех пользователей\n",
    "als_recommendations = als_model.recommend(\n",
    "    user_ids_encoded, \n",
    "    user_item_matrix_train[user_ids_encoded], \n",
    "    filter_already_liked_items=False, N=50)"
   ]
  },
  {
   "cell_type": "code",
   "execution_count": 49,
   "id": "00f726c3",
   "metadata": {},
   "outputs": [],
   "source": [
    "# преобразуем полученные рекомендации в табличный формат\n",
    "track_id_enc = als_recommendations[0]\n",
    "track_seq_scores = als_recommendations[1]\n",
    "\n"
   ]
  },
  {
   "cell_type": "code",
   "execution_count": 50,
   "id": "6304a8ca",
   "metadata": {},
   "outputs": [],
   "source": [
    "als_recommendations = pd.DataFrame({\n",
    "    \"user_id_enc\": user_ids_encoded,\n",
    "    \"track_id_enc\": track_id_enc.tolist(), \n",
    "    \"track_seq\": track_seq_scores.tolist()})\n",
    "als_recommendations = als_recommendations.explode([\"track_id_enc\", \"track_seq\"], ignore_index=True) "
   ]
  },
  {
   "cell_type": "code",
   "execution_count": 51,
   "id": "11c3ca89",
   "metadata": {},
   "outputs": [],
   "source": [
    "# приводим типы данных\n",
    "als_recommendations[\"track_id_enc\"] = als_recommendations[\"track_id_enc\"].astype(\"int\")\n",
    "als_recommendations[\"track_seq\"] = als_recommendations[\"track_seq\"].astype(\"float\")\n",
    "\n",
    "# получаем изначальные идентификаторы\n",
    "als_recommendations[\"user_id\"] = user_encoder.inverse_transform(als_recommendations[\"user_id_enc\"])\n",
    "als_recommendations[\"track_id\"] = item_encoder.inverse_transform(als_recommendations[\"track_id_enc\"])\n",
    "als_recommendations = als_recommendations.drop(columns=[\"user_id_enc\", \"track_id_enc\"])"
   ]
  },
  {
   "cell_type": "code",
   "execution_count": 52,
   "id": "bbec31b9",
   "metadata": {},
   "outputs": [],
   "source": [
    "als_recommendations = als_recommendations[[\"user_id\", \"track_id\", \"track_seq\"]]\n",
    "als_recommendations.to_parquet(\"recsys/recommendations/als_recommendations.parquet\") "
   ]
  },
  {
   "cell_type": "markdown",
   "id": "5f09dc7e-7c91-4355-860a-b9cfb9f33f15",
   "metadata": {},
   "source": [
    "# Похожие"
   ]
  },
  {
   "cell_type": "markdown",
   "id": "1dfcb683-b440-40a8-9975-894156a53872",
   "metadata": {},
   "source": [
    "Рассчитаем похожие, они позже пригодятся для онлайн-рекомендаций."
   ]
  },
  {
   "cell_type": "code",
   "execution_count": 53,
   "id": "a75d07ee-4b12-4ce5-aa85-e45cb7a7a4f0",
   "metadata": {},
   "outputs": [],
   "source": [
    "# Определяем максимальное количество похожих объектов\n",
    "max_similar_items = 10\n",
    "\n",
    "# Получаем энкодированные идентификаторы всех объектов, известных нам из events_train\n",
    "train_item_ids_enc = events_train['track_id_enc'].unique()\n",
    "\n",
    "# Получаем списки похожих объектов, используя ранее полученную ALS-модель\n",
    "# метод similar_items возвращает и сам объект, как наиболее похожий\n",
    "# этот объект мы позже отфильтруем, но сейчас запросим на 1 больше\n",
    "similar_items = als_model.similar_items(train_item_ids_enc, N=max_similar_items + 1)"
   ]
  },
  {
   "cell_type": "code",
   "execution_count": 54,
   "id": "ce370904-4c49-4152-8706-416074ea9b9a",
   "metadata": {},
   "outputs": [],
   "source": [
    "# преобразуем полученные списки в табличный формат\n",
    "sim_item_track_id_enc = similar_items[0]\n",
    "sim_track_seq = similar_items[1]"
   ]
  },
  {
   "cell_type": "code",
   "execution_count": 55,
   "id": "85d8de1e",
   "metadata": {},
   "outputs": [],
   "source": [
    "similar_items = pd.DataFrame({\n",
    "    \"item_id_enc\":train_item_ids_enc.tolist(),\n",
    "    \"sim_item_id_enc\": sim_item_track_id_enc.tolist(), \n",
    "    \"track_seq\": sim_track_seq.tolist()})"
   ]
  },
  {
   "cell_type": "code",
   "execution_count": 56,
   "id": "e78104e0",
   "metadata": {},
   "outputs": [],
   "source": [
    "similar_items = similar_items.explode([\"sim_item_id_enc\", \"track_seq\"], ignore_index=True)"
   ]
  },
  {
   "cell_type": "code",
   "execution_count": 57,
   "id": "76c25525",
   "metadata": {},
   "outputs": [],
   "source": [
    "# приводим типы данных\n",
    "similar_items[\"sim_item_id_enc\"] = similar_items[\"sim_item_id_enc\"].astype(\"int\")\n",
    "similar_items[\"track_seq\"] = similar_items[\"track_seq\"].astype(\"float\")"
   ]
  },
  {
   "cell_type": "code",
   "execution_count": 58,
   "id": "efff43ae",
   "metadata": {},
   "outputs": [],
   "source": [
    "# получаем изначальные идентификаторы\n",
    "similar_items[\"item_id_1\"] = item_encoder.inverse_transform(similar_items[\"item_id_enc\"])\n",
    "similar_items[\"item_id_2\"] = item_encoder.inverse_transform(similar_items[\"sim_item_id_enc\"])\n",
    "similar_items = similar_items.drop(columns=[\"item_id_enc\", \"sim_item_id_enc\"])"
   ]
  },
  {
   "cell_type": "code",
   "execution_count": 59,
   "id": "0bd37a42",
   "metadata": {},
   "outputs": [],
   "source": [
    "# убираем пары с одинаковыми объектами\n",
    "similar_items = similar_items.query(\"item_id_1 != item_id_2\")"
   ]
  },
  {
   "cell_type": "code",
   "execution_count": 60,
   "id": "b04c10b0",
   "metadata": {},
   "outputs": [],
   "source": [
    "similar_items.to_parquet(\"recsys/recommendations/similar.parquet\") "
   ]
  },
  {
   "cell_type": "markdown",
   "id": "0087a3e7-ca9f-42cd-944c-944222c1baef",
   "metadata": {},
   "source": [
    "# Построение признаков"
   ]
  },
  {
   "cell_type": "markdown",
   "id": "e82a32e1-b90b-4eaf-9439-fc8deab9f34b",
   "metadata": {},
   "source": [
    "Построим три признака, можно больше, для ранжирующей модели."
   ]
  },
  {
   "cell_type": "code",
   "execution_count": 61,
   "id": "5e7ab510",
   "metadata": {},
   "outputs": [],
   "source": [
    "# разделяем данные на две части\n",
    "events_labels = events_test"
   ]
  },
  {
   "cell_type": "code",
   "execution_count": 62,
   "id": "0680197c",
   "metadata": {},
   "outputs": [
    {
     "name": "stderr",
     "output_type": "stream",
     "text": [
      "/tmp/ipykernel_1897646/3691167316.py:1: SettingWithCopyWarning: \n",
      "A value is trying to be set on a copy of a slice from a DataFrame.\n",
      "Try using .loc[row_indexer,col_indexer] = value instead\n",
      "\n",
      "See the caveats in the documentation: https://pandas.pydata.org/pandas-docs/stable/user_guide/indexing.html#returning-a-view-versus-a-copy\n",
      "  events_labels[\"target\"] = 1\n"
     ]
    }
   ],
   "source": [
    "events_labels[\"target\"] = 1"
   ]
  },
  {
   "cell_type": "code",
   "execution_count": 63,
   "id": "7947f687",
   "metadata": {},
   "outputs": [],
   "source": [
    "candidates = als_recommendations.merge(events_labels[[\"user_id\", \"track_id\", \"target\"]], \n",
    "                              on=[\"user_id\", \"track_id\"], \n",
    "                              how=\"left\")"
   ]
  },
  {
   "cell_type": "code",
   "execution_count": 64,
   "id": "571f628a",
   "metadata": {},
   "outputs": [],
   "source": [
    "candidates[\"target\"] = candidates[\"target\"].fillna(0).astype(\"int\")"
   ]
  },
  {
   "cell_type": "code",
   "execution_count": 65,
   "id": "f0d6ad01",
   "metadata": {},
   "outputs": [],
   "source": [
    "# в кандидатах оставляем только тех пользователей, у которых есть хотя бы один положительный таргет\n",
    "candidates_to_sample = candidates.groupby(\"user_id\").filter(lambda x: x[\"target\"].sum() > 0)"
   ]
  },
  {
   "cell_type": "code",
   "execution_count": 66,
   "id": "1af0346c",
   "metadata": {},
   "outputs": [
    {
     "name": "stderr",
     "output_type": "stream",
     "text": [
      "/tmp/ipykernel_1897646/4008438010.py:7: DeprecationWarning: DataFrameGroupBy.apply operated on the grouping columns. This behavior is deprecated, and in a future version of pandas the grouping columns will be excluded from the operation. Either pass `include_groups=False` to exclude the groupings or explicitly select the grouping columns after groupby to silence this warning.\n",
      "  .apply(lambda x: x.sample(negatives_per_user, random_state=0))\n"
     ]
    }
   ],
   "source": [
    "# для каждого пользователя оставляем только 4 негативных примера\n",
    "negatives_per_user = 4\n",
    "candidates_for_train = pd.concat([\n",
    "    candidates_to_sample.query(\"target == 1\"),  # положительные примеры\n",
    "    candidates_to_sample.query(\"target == 0\") \\\n",
    "        .groupby(\"user_id\") \\\n",
    "        .apply(lambda x: x.sample(negatives_per_user, random_state=0))\n",
    "    ])"
   ]
  },
  {
   "cell_type": "code",
   "execution_count": 67,
   "id": "26d0780f",
   "metadata": {},
   "outputs": [],
   "source": [
    "def get_user_features(events):\n",
    "    \"\"\" Считает пользовательские признаки \"\"\"\n",
    "    user_features = events.groupby(\"user_id\").agg(\n",
    "        listens_years=(\"started_at\", lambda x: (x.max() - x.min()).days / 365.25),\n",
    "        tracks_listen=(\"track_id\", \"nunique\"), \n",
    "        rating_avg=(\"track_seq\", \"mean\"),\n",
    "        rating_std=(\"track_seq\", \"std\")\n",
    "    )\n",
    "    user_features[\"tracks_per_year\"] = user_features[\"tracks_listen\"] / user_features[\"listens_years\"]\n",
    "    return user_features"
   ]
  },
  {
   "cell_type": "code",
   "execution_count": 68,
   "id": "b8654574",
   "metadata": {},
   "outputs": [],
   "source": [
    "user_features_for_train = get_user_features(events_train)"
   ]
  },
  {
   "cell_type": "code",
   "execution_count": 69,
   "id": "6845e427",
   "metadata": {},
   "outputs": [],
   "source": [
    "user_features_for_test = get_user_features(events_test)"
   ]
  },
  {
   "cell_type": "code",
   "execution_count": 70,
   "id": "1decb46c",
   "metadata": {},
   "outputs": [],
   "source": [
    "candidates_final = candidates_for_train.merge(user_features_for_train, \n",
    "                              on=[\"user_id\"], \n",
    "                              how=\"left\")"
   ]
  },
  {
   "cell_type": "code",
   "execution_count": 71,
   "id": "7d954c5b",
   "metadata": {},
   "outputs": [],
   "source": [
    "candidates_final_rank = candidates_for_train.merge(user_features_for_test, \n",
    "                              on=[\"user_id\"], \n",
    "                              how=\"left\")"
   ]
  },
  {
   "cell_type": "markdown",
   "id": "27835ae4",
   "metadata": {},
   "source": [
    "# Ранжирование рекомендаций"
   ]
  },
  {
   "cell_type": "markdown",
   "id": "4f109cd2",
   "metadata": {},
   "source": [
    "Построим ранжирующую модель, чтобы сделать рекомендации более точными. Отранжируем рекомендации."
   ]
  },
  {
   "cell_type": "code",
   "execution_count": 72,
   "id": "893a2967",
   "metadata": {},
   "outputs": [],
   "source": [
    "# задаём имена колонок признаков и таргета\n",
    "features = ['track_seq', 'listens_years', 'tracks_listen', 'rating_avg', 'rating_std', 'tracks_per_year']\n",
    "target = 'target'"
   ]
  },
  {
   "cell_type": "code",
   "execution_count": 73,
   "id": "446e795a",
   "metadata": {},
   "outputs": [],
   "source": [
    "# Create the Pool object\n",
    "train_data = Pool(\n",
    "    data=candidates_final[features], \n",
    "    label=candidates_final[target])"
   ]
  },
  {
   "cell_type": "code",
   "execution_count": 74,
   "id": "5136b8a4",
   "metadata": {},
   "outputs": [],
   "source": [
    "test_data = Pool(\n",
    "    data=candidates_final_rank[features], \n",
    "    label=candidates_final_rank[target])"
   ]
  },
  {
   "cell_type": "code",
   "execution_count": 75,
   "id": "06be60c3",
   "metadata": {},
   "outputs": [],
   "source": [
    "# инициализируем модель CatBoostClassifier\n",
    "cb_model = CatBoostClassifier(\n",
    "    iterations=1000,\n",
    "    learning_rate=0.1,\n",
    "    depth=6,\n",
    "    loss_function='Logloss',\n",
    "    verbose=100,\n",
    "    random_seed=0\n",
    ")"
   ]
  },
  {
   "cell_type": "code",
   "execution_count": 76,
   "id": "c800ef84",
   "metadata": {},
   "outputs": [
    {
     "name": "stdout",
     "output_type": "stream",
     "text": [
      "0:\tlearn: 0.6712596\ttotal: 55.4ms\tremaining: 55.4s\n",
      "100:\tlearn: 0.5758341\ttotal: 438ms\tremaining: 3.9s\n",
      "200:\tlearn: 0.5745604\ttotal: 821ms\tremaining: 3.26s\n",
      "300:\tlearn: 0.5735198\ttotal: 1.22s\tremaining: 2.83s\n",
      "400:\tlearn: 0.5725681\ttotal: 1.61s\tremaining: 2.41s\n",
      "500:\tlearn: 0.5717211\ttotal: 2.02s\tremaining: 2.01s\n",
      "600:\tlearn: 0.5709301\ttotal: 2.42s\tremaining: 1.6s\n",
      "700:\tlearn: 0.5701154\ttotal: 2.82s\tremaining: 1.2s\n",
      "800:\tlearn: 0.5693752\ttotal: 3.22s\tremaining: 799ms\n",
      "900:\tlearn: 0.5686716\ttotal: 3.62s\tremaining: 398ms\n",
      "999:\tlearn: 0.5680327\ttotal: 4.02s\tremaining: 0us\n"
     ]
    },
    {
     "data": {
      "text/plain": [
       "<catboost.core.CatBoostClassifier at 0x7d88e30b0c80>"
      ]
     },
     "execution_count": 76,
     "metadata": {},
     "output_type": "execute_result"
    }
   ],
   "source": [
    "# тренируем модель\n",
    "cb_model.fit(train_data) "
   ]
  },
  {
   "cell_type": "code",
   "execution_count": 77,
   "id": "c99e2236",
   "metadata": {},
   "outputs": [],
   "source": [
    "predictions = cb_model.predict_proba(test_data)"
   ]
  },
  {
   "cell_type": "code",
   "execution_count": 78,
   "id": "5e7717bf",
   "metadata": {},
   "outputs": [],
   "source": [
    "# сохраняем вероятности положительного класса (второй столбец)\n",
    "candidates_final_rank[\"score\"] = predictions[:, 1]"
   ]
  },
  {
   "cell_type": "code",
   "execution_count": 80,
   "id": "39c64c6b",
   "metadata": {},
   "outputs": [],
   "source": [
    "# сортируем кандидатов по пользователю и по убыванию cb_score\n",
    "candidates_final_rank = candidates_final_rank.sort_values([\"user_id\", \"score\"], ascending=[True, False])"
   ]
  },
  {
   "cell_type": "code",
   "execution_count": 81,
   "id": "ebf9e448",
   "metadata": {},
   "outputs": [],
   "source": [
    "# проставляем ранк, начиная с 1 для каждого пользователя\n",
    "candidates_final_rank[\"rank\"] = candidates_final_rank.groupby(\"user_id\").cumcount() + 1"
   ]
  },
  {
   "cell_type": "code",
   "execution_count": 82,
   "id": "7a82abe7",
   "metadata": {},
   "outputs": [],
   "source": [
    "candidates_final_rank.to_parquet(\"recsys/recommendations/recommendations.parquet\")"
   ]
  },
  {
   "cell_type": "markdown",
   "id": "b3c84071-45b5-4a15-a683-e0ab034a3128",
   "metadata": {},
   "source": [
    "# Оценка качества"
   ]
  },
  {
   "cell_type": "markdown",
   "id": "1b107fe4-554e-42b1-87d9-c435a52bb77a",
   "metadata": {},
   "source": [
    "Проверим оценку качества трёх типов рекомендаций: \n",
    "\n",
    "- топ популярных,\n",
    "- персональных, полученных при помощи ALS,\n",
    "- итоговых\n",
    "  \n",
    "по четырем метрикам: recall, precision, coverage, novelty."
   ]
  },
  {
   "cell_type": "code",
   "execution_count": 83,
   "id": "6c235e86",
   "metadata": {},
   "outputs": [],
   "source": [
    "def process_events_recs_for_binary_metrics(events_train, events_test, recs, top_k=None):\n",
    "\n",
    "    \"\"\"\n",
    "    размечает пары <user_id, item_id> для общего множества пользователей признаками\n",
    "    - gt (ground truth)\n",
    "    - pr (prediction)\n",
    "    top_k: расчёт ведётся только для top k-рекомендаций\n",
    "    \"\"\"\n",
    "\n",
    "    events_test[\"gt\"] = True\n",
    "    common_users = set(events_test[\"user_id\"]) & set(recs[\"user_id\"])\n",
    "\n",
    "    print(f\"Common users: {len(common_users)}\")\n",
    "    \n",
    "    events_for_common_users = events_test[events_test[\"user_id\"].isin(common_users)].copy()\n",
    "    recs_for_common_users = recs[recs[\"user_id\"].isin(common_users)].copy()\n",
    "\n",
    "    recs_for_common_users = recs_for_common_users.sort_values([\"user_id\", \"track_seq\"], ascending=[True, False])\n",
    "\n",
    "    # оставляет только те item_id, которые были в events_train, \n",
    "    # т. к. модель не имела никакой возможности давать рекомендации для новых айтемов\n",
    "    events_for_common_users = events_for_common_users[events_for_common_users[\"track_id\"].isin(events_train[\"track_id\"].unique())]\n",
    "\n",
    "    if top_k is not None:\n",
    "        recs_for_common_users = recs_for_common_users.groupby(\"user_id\").head(top_k)\n",
    "    \n",
    "    events_recs_common = events_for_common_users[[\"user_id\", \"track_id\", \"gt\"]].merge(\n",
    "        recs_for_common_users[[\"user_id\", \"track_id\", \"track_seq\"]], \n",
    "        on=[\"user_id\", \"track_id\"], how=\"outer\")    \n",
    "\n",
    "    events_recs_common[\"gt\"] = events_recs_common[\"gt\"].fillna(False)\n",
    "    events_recs_common[\"pr\"] = ~events_recs_common[\"track_seq\"].isnull()\n",
    "    \n",
    "    events_recs_common[\"tp\"] = events_recs_common[\"gt\"] & events_recs_common[\"pr\"]\n",
    "    events_recs_common[\"fp\"] = ~events_recs_common[\"gt\"] & events_recs_common[\"pr\"]\n",
    "    events_recs_common[\"fn\"] = events_recs_common[\"gt\"] & ~events_recs_common[\"pr\"]\n",
    "\n",
    "    return events_recs_common"
   ]
  },
  {
   "cell_type": "code",
   "execution_count": 84,
   "id": "ee6ea38d",
   "metadata": {},
   "outputs": [],
   "source": [
    "def compute_cls_metrics(events_recs_for_binary_metric):\n",
    "    \n",
    "    # Группируем данные по user_id\n",
    "    groupper = events_recs_for_binary_metric.groupby(\"user_id\")\n",
    "    \n",
    "    # Вычисляем precision@5 и recall@5 для каждого пользователя\n",
    "    #precision_5 = groupper.apply(lambda df: df['tp'].head(5).sum() / (df['tp'].head(5).sum() + df['fp'].head(5).sum()) if (df['tp'].head(5).sum() + df['fp'].head(5).sum()) > 0 else 0)\n",
    "    #ecall_5 = groupper.apply(lambda df: df['tp'].head(5).sum() / (df['tp'].head(5).sum() + df['fn'].head(5).sum()) if (df['tp'].head(5).sum() + df['fn'].head(5).sum()) > 0 else 0)\n",
    "\n",
    "    # precision = tp / (tp + fp)\n",
    "    precision_5 = groupper[\"tp\"].sum()/(groupper[\"tp\"].sum()+groupper[\"fp\"].sum())\n",
    "    precision_5 = precision_5.fillna(0).mean()\n",
    "\n",
    "    # Вычисляем precision@10 и recall@10 для каждого пользователя\n",
    "   # precision_10 = groupper.apply(lambda df: df['tp'].head(10).sum() / (df['tp'].head(10).sum() + df['fp'].head(10).sum()) if (df['tp'].head(10).sum() + df['fp'].head(10).sum()) > 0 else 0)\n",
    "   # recall_10 = groupper.apply(lambda df: df['tp'].head(10).sum() / (df['tp'].head(10).sum() + df['fn'].head(10).sum()) if (df['tp'].head(10).sum() + df['fn'].head(10).sum()) > 0 else 0)\n",
    "    \n",
    "    # precision = tp / (tp + fp)\n",
    "    recall_5 = groupper[\"tp\"].sum()/(groupper[\"tp\"].sum()+groupper[\"fn\"].sum())\n",
    "    recall_5 = recall_5.fillna(0).mean()\n",
    "    \n",
    "    # Вычисляем среднее по всем пользователям\n",
    "    #precision_5 = precision_5.mean()\n",
    "    #recall_5 = recall_5.mean()\n",
    "    \n",
    "  #  precision_10 = precision_10.mean()\n",
    "  #  recall_10 = recall_10.mean()\n",
    "\n",
    "    return precision_5, recall_5"
   ]
  },
  {
   "cell_type": "code",
   "execution_count": 85,
   "id": "1ee4a1eb",
   "metadata": {},
   "outputs": [
    {
     "name": "stderr",
     "output_type": "stream",
     "text": [
      "/tmp/ipykernel_1897646/2318076430.py:10: SettingWithCopyWarning: \n",
      "A value is trying to be set on a copy of a slice from a DataFrame.\n",
      "Try using .loc[row_indexer,col_indexer] = value instead\n",
      "\n",
      "See the caveats in the documentation: https://pandas.pydata.org/pandas-docs/stable/user_guide/indexing.html#returning-a-view-versus-a-copy\n",
      "  events_test[\"gt\"] = True\n"
     ]
    },
    {
     "name": "stdout",
     "output_type": "stream",
     "text": [
      "Common users: 270726\n"
     ]
    },
    {
     "name": "stderr",
     "output_type": "stream",
     "text": [
      "/tmp/ipykernel_1897646/2318076430.py:31: FutureWarning: Downcasting object dtype arrays on .fillna, .ffill, .bfill is deprecated and will change in a future version. Call result.infer_objects(copy=False) instead. To opt-in to the future behavior, set `pd.set_option('future.no_silent_downcasting', True)`\n",
      "  events_recs_common[\"gt\"] = events_recs_common[\"gt\"].fillna(False)\n"
     ]
    }
   ],
   "source": [
    "als_binary_metrics = process_events_recs_for_binary_metrics(\n",
    "  events_train,\n",
    "  events_test, \n",
    "  als_recommendations, \n",
    "  top_k=5\n",
    ")"
   ]
  },
  {
   "cell_type": "code",
   "execution_count": 86,
   "id": "102f81d8",
   "metadata": {},
   "outputs": [],
   "source": [
    "precision_als, recall_als = compute_cls_metrics(als_binary_metrics)"
   ]
  },
  {
   "cell_type": "code",
   "execution_count": 87,
   "id": "c46cf47f",
   "metadata": {},
   "outputs": [
    {
     "name": "stdout",
     "output_type": "stream",
     "text": [
      "Common users: 25\n"
     ]
    },
    {
     "name": "stderr",
     "output_type": "stream",
     "text": [
      "/tmp/ipykernel_1897646/2318076430.py:10: SettingWithCopyWarning: \n",
      "A value is trying to be set on a copy of a slice from a DataFrame.\n",
      "Try using .loc[row_indexer,col_indexer] = value instead\n",
      "\n",
      "See the caveats in the documentation: https://pandas.pydata.org/pandas-docs/stable/user_guide/indexing.html#returning-a-view-versus-a-copy\n",
      "  events_test[\"gt\"] = True\n",
      "/tmp/ipykernel_1897646/2318076430.py:31: FutureWarning: Downcasting object dtype arrays on .fillna, .ffill, .bfill is deprecated and will change in a future version. Call result.infer_objects(copy=False) instead. To opt-in to the future behavior, set `pd.set_option('future.no_silent_downcasting', True)`\n",
      "  events_recs_common[\"gt\"] = events_recs_common[\"gt\"].fillna(False)\n"
     ]
    }
   ],
   "source": [
    "top_binary_metrics = process_events_recs_for_binary_metrics(\n",
    "  events_train,\n",
    "  events_test, \n",
    "  top_k_pop_items, \n",
    "  top_k=5\n",
    ")"
   ]
  },
  {
   "cell_type": "code",
   "execution_count": 88,
   "id": "db905694",
   "metadata": {},
   "outputs": [],
   "source": [
    "precision_top, recall_top = compute_cls_metrics(top_binary_metrics)"
   ]
  },
  {
   "cell_type": "code",
   "execution_count": 89,
   "id": "c837b8ff",
   "metadata": {},
   "outputs": [
    {
     "name": "stderr",
     "output_type": "stream",
     "text": [
      "/tmp/ipykernel_1897646/2318076430.py:10: SettingWithCopyWarning: \n",
      "A value is trying to be set on a copy of a slice from a DataFrame.\n",
      "Try using .loc[row_indexer,col_indexer] = value instead\n",
      "\n",
      "See the caveats in the documentation: https://pandas.pydata.org/pandas-docs/stable/user_guide/indexing.html#returning-a-view-versus-a-copy\n",
      "  events_test[\"gt\"] = True\n"
     ]
    },
    {
     "name": "stdout",
     "output_type": "stream",
     "text": [
      "Common users: 47453\n"
     ]
    },
    {
     "name": "stderr",
     "output_type": "stream",
     "text": [
      "/tmp/ipykernel_1897646/2318076430.py:31: FutureWarning: Downcasting object dtype arrays on .fillna, .ffill, .bfill is deprecated and will change in a future version. Call result.infer_objects(copy=False) instead. To opt-in to the future behavior, set `pd.set_option('future.no_silent_downcasting', True)`\n",
      "  events_recs_common[\"gt\"] = events_recs_common[\"gt\"].fillna(False)\n"
     ]
    }
   ],
   "source": [
    "cbl_binary_metrics = process_events_recs_for_binary_metrics(\n",
    "  events_train,\n",
    "  events_test, \n",
    "  candidates_final_rank, \n",
    "  top_k=5\n",
    ")"
   ]
  },
  {
   "cell_type": "code",
   "execution_count": 90,
   "id": "de0c465b",
   "metadata": {},
   "outputs": [],
   "source": [
    "precision_cbl, recall_cbl = compute_cls_metrics(cbl_binary_metrics)"
   ]
  },
  {
   "cell_type": "code",
   "execution_count": 91,
   "id": "e5423852",
   "metadata": {},
   "outputs": [],
   "source": [
    "als_top = als_recommendations.sort_values(['user_id', 'track_id'], ascending=[True, False])\n",
    "# Получение всех уникальных item_id\n",
    "all_items = set(als_top['track_id'].unique())\n",
    "# Получение первых 100 строк\n",
    "first_100_rows = als_top.head(100)\n",
    "# Получение уникальных item_id из первых 100 строк\n",
    "recommended_items = set(first_100_rows['track_id'].unique())\n",
    "# Вычисление Item Coverage\n",
    "als_coverage = len(recommended_items) / len(all_items)"
   ]
  },
  {
   "cell_type": "code",
   "execution_count": 92,
   "id": "fab93e22",
   "metadata": {},
   "outputs": [],
   "source": [
    "top_k_pop_top = top_k_pop_items.sort_values(['user_id', 'track_id'], ascending=[True, False])\n",
    "# Получение всех уникальных item_id\n",
    "all_items = set(top_k_pop_top['track_id'].unique())\n",
    "# Получение первых 100 строк\n",
    "first_100_rows = top_k_pop_top.head(100)\n",
    "# Получение уникальных item_id из первых 100 строк\n",
    "recommended_items = set(first_100_rows['track_id'].unique())\n",
    "# Вычисление Item Coverage\n",
    "top_k_pop_coverage = len(recommended_items) / len(all_items)"
   ]
  },
  {
   "cell_type": "code",
   "execution_count": 93,
   "id": "e282f677",
   "metadata": {},
   "outputs": [],
   "source": [
    "cbl_top = candidates_final_rank.sort_values(['user_id', 'track_id'], ascending=[True, False])\n",
    "# Получение всех уникальных item_id\n",
    "all_items = set(cbl_top['track_id'].unique())\n",
    "# Получение первых 100 строк\n",
    "first_100_rows = cbl_top.head(100)\n",
    "# Получение уникальных item_id из первых 100 строк\n",
    "recommended_items = set(first_100_rows['track_id'].unique())\n",
    "# Вычисление Item Coverage\n",
    "cbl_coverage = len(recommended_items) / len(all_items)"
   ]
  },
  {
   "cell_type": "code",
   "execution_count": 94,
   "id": "cb1b8b00",
   "metadata": {},
   "outputs": [
    {
     "name": "stderr",
     "output_type": "stream",
     "text": [
      "/tmp/ipykernel_1897646/4294728115.py:2: SettingWithCopyWarning: \n",
      "A value is trying to be set on a copy of a slice from a DataFrame.\n",
      "Try using .loc[row_indexer,col_indexer] = value instead\n",
      "\n",
      "See the caveats in the documentation: https://pandas.pydata.org/pandas-docs/stable/user_guide/indexing.html#returning-a-view-versus-a-copy\n",
      "  events_train[\"listen\"] = True\n"
     ]
    }
   ],
   "source": [
    "# Шаг 1: Разметим каждую рекомендацию булевым признаком read, используя данные из events_train\n",
    "events_train[\"listen\"] = True"
   ]
  },
  {
   "cell_type": "code",
   "execution_count": 95,
   "id": "23dfae3e",
   "metadata": {},
   "outputs": [
    {
     "name": "stderr",
     "output_type": "stream",
     "text": [
      "/tmp/ipykernel_1897646/599951557.py:2: FutureWarning: Downcasting object dtype arrays on .fillna, .ffill, .bfill is deprecated and will change in a future version. Call result.infer_objects(copy=False) instead. To opt-in to the future behavior, set `pd.set_option('future.no_silent_downcasting', True)`\n",
      "  als_recommendations[\"listen\"] = als_recommendations[\"listen\"].fillna(False).astype(\"bool\")\n"
     ]
    }
   ],
   "source": [
    "als_recommendations = als_recommendations.merge(events_train[[\"user_id\", \"track_id\", \"listen\"]], on=[\"user_id\", \"track_id\"], how=\"left\")\n",
    "als_recommendations[\"listen\"] = als_recommendations[\"listen\"].fillna(False).astype(\"bool\")"
   ]
  },
  {
   "cell_type": "code",
   "execution_count": 96,
   "id": "679ca696",
   "metadata": {},
   "outputs": [],
   "source": [
    "# Шаг 2: Проставим ранги для рекомендаций каждого пользователя\n",
    "als_recommendations = als_recommendations.sort_values(by=[\"user_id\", \"track_seq\"], ascending=[True, False])  \n",
    "als_recommendations[\"rank\"] = als_recommendations.groupby(\"user_id\").cumcount() + 1"
   ]
  },
  {
   "cell_type": "code",
   "execution_count": null,
   "id": "24884fe1",
   "metadata": {},
   "outputs": [],
   "source": [
    "# Шаг 3: Посчитаем novelty@5 для каждого пользователя\n",
    "novelty_als = (1 - als_recommendations.query(\"rank <= 5\").groupby(\"user_id\")[\"listen\"].mean())"
   ]
  },
  {
   "cell_type": "code",
   "execution_count": 98,
   "id": "ac000160",
   "metadata": {},
   "outputs": [],
   "source": [
    "# Шаг 4: Посчитаем среднее значение novelty@5\n",
    "average_novelty_als = novelty_als.mean()"
   ]
  },
  {
   "cell_type": "code",
   "execution_count": 99,
   "id": "b8c34467",
   "metadata": {},
   "outputs": [
    {
     "name": "stderr",
     "output_type": "stream",
     "text": [
      "/tmp/ipykernel_1897646/1414846396.py:2: FutureWarning: Downcasting object dtype arrays on .fillna, .ffill, .bfill is deprecated and will change in a future version. Call result.infer_objects(copy=False) instead. To opt-in to the future behavior, set `pd.set_option('future.no_silent_downcasting', True)`\n",
      "  top_k_pop_items[\"listen\"] = top_k_pop_items[\"listen\"].fillna(False).astype(\"bool\")\n"
     ]
    }
   ],
   "source": [
    "top_k_pop_items = top_k_pop_items.merge(events_train[[\"user_id\", \"track_id\", \"listen\"]], on=[\"user_id\", \"track_id\"], how=\"left\")\n",
    "top_k_pop_items[\"listen\"] = top_k_pop_items[\"listen\"].fillna(False).astype(\"bool\")"
   ]
  },
  {
   "cell_type": "code",
   "execution_count": 100,
   "id": "94398618",
   "metadata": {},
   "outputs": [],
   "source": [
    "# Шаг 2: Проставим ранги для рекомендаций каждого пользователя\n",
    "top_k_pop_items = top_k_pop_items.sort_values(by=[\"user_id\", \"track_seq\"], ascending=[True, False])  \n",
    "top_k_pop_items[\"rank\"] = top_k_pop_items.groupby(\"user_id\").cumcount() + 1"
   ]
  },
  {
   "cell_type": "code",
   "execution_count": 101,
   "id": "fd014eba",
   "metadata": {},
   "outputs": [],
   "source": [
    "# Шаг 3: Посчитаем novelty@5 для каждого пользователя\n",
    "novelty_top = (1 - top_k_pop_items.query(\"rank <= 5\").groupby(\"user_id\")[\"listen\"].mean())"
   ]
  },
  {
   "cell_type": "code",
   "execution_count": 102,
   "id": "751b1ca7",
   "metadata": {},
   "outputs": [],
   "source": [
    "# Шаг 4: Посчитаем среднее значение novelty@5\n",
    "average_novelty_top = novelty_top.mean()"
   ]
  },
  {
   "cell_type": "code",
   "execution_count": 103,
   "id": "36c2507e",
   "metadata": {},
   "outputs": [
    {
     "name": "stderr",
     "output_type": "stream",
     "text": [
      "/tmp/ipykernel_1897646/2443919558.py:2: FutureWarning: Downcasting object dtype arrays on .fillna, .ffill, .bfill is deprecated and will change in a future version. Call result.infer_objects(copy=False) instead. To opt-in to the future behavior, set `pd.set_option('future.no_silent_downcasting', True)`\n",
      "  candidates_final_rank[\"listen\"] = candidates_final_rank[\"listen\"].fillna(False).astype(\"bool\")\n"
     ]
    }
   ],
   "source": [
    "candidates_final_rank = candidates_final_rank.merge(events_train[[\"user_id\", \"track_id\", \"listen\"]], on=[\"user_id\", \"track_id\"], how=\"left\")\n",
    "candidates_final_rank[\"listen\"] = candidates_final_rank[\"listen\"].fillna(False).astype(\"bool\")"
   ]
  },
  {
   "cell_type": "code",
   "execution_count": 104,
   "id": "8737bcea",
   "metadata": {},
   "outputs": [],
   "source": [
    "# Шаг 3: Посчитаем novelty@5 для каждого пользователя\n",
    "novelty_cbl = (1 - candidates_final_rank.query(\"rank <= 5\").groupby(\"user_id\")[\"listen\"].mean())"
   ]
  },
  {
   "cell_type": "code",
   "execution_count": 105,
   "id": "86fd8a2d",
   "metadata": {},
   "outputs": [],
   "source": [
    "# Шаг 4: Посчитаем среднее значение novelty@5\n",
    "average_novelty_cbl = novelty_cbl.mean()"
   ]
  },
  {
   "cell_type": "markdown",
   "id": "f1c8d38c-32b0-46a4-96f0-cd01dac708bc",
   "metadata": {},
   "source": [
    "# === Выводы, метрики ==="
   ]
  },
  {
   "cell_type": "markdown",
   "id": "f7d7d5d8-7d1e-4fdf-a6cd-83e5ce92c684",
   "metadata": {},
   "source": [
    "Основные выводы при работе над расчётом рекомендаций, рассчитанные метрики."
   ]
  },
  {
   "cell_type": "code",
   "execution_count": 106,
   "id": "6403097d-db36-46d9-8952-613c9bd51b05",
   "metadata": {},
   "outputs": [
    {
     "name": "stdout",
     "output_type": "stream",
     "text": [
      "Precision@5_als: 0.005\n",
      "Recall@5_als: 0.008\n",
      "Precision@5_top: 0.000\n",
      "Recall@5_top: 0.000\n",
      "Precision@5_cbl: 0.258\n",
      "Recall@5_cbl: 0.440\n"
     ]
    }
   ],
   "source": [
    "print(f\"Precision@5_als: {precision_als:.3f}\")\n",
    "print(f\"Recall@5_als: {recall_als:.3f}\")\n",
    "print(f\"Precision@5_top: {precision_top:.3f}\")\n",
    "print(f\"Recall@5_top: {recall_top:.3f}\")\n",
    "print(f\"Precision@5_cbl: {precision_cbl:.3f}\")\n",
    "print(f\"Recall@5_cbl: {recall_cbl:.3f}\")"
   ]
  },
  {
   "cell_type": "code",
   "execution_count": 107,
   "id": "986cfdd5-6f2e-4de6-8666-85804c87d04b",
   "metadata": {},
   "outputs": [
    {
     "name": "stdout",
     "output_type": "stream",
     "text": [
      "ALS Coverage для первых 100 строк: 0.02\n",
      "TOP Coverage для первых 100 строк: 0.01\n",
      "CBL Coverage для первых 100 строк: 0.03\n"
     ]
    }
   ],
   "source": [
    "print(f\"ALS Coverage для первых 100 строк: {als_coverage:.2f}\")\n",
    "print(f\"TOP Coverage для первых 100 строк: {top_k_pop_coverage:.2f}\")\n",
    "print(f\"CBL Coverage для первых 100 строк: {cbl_coverage:.2f}\")"
   ]
  },
  {
   "cell_type": "code",
   "execution_count": 108,
   "id": "d95158a3",
   "metadata": {},
   "outputs": [
    {
     "name": "stdout",
     "output_type": "stream",
     "text": [
      " Als Novelty@5: 0.71\n",
      " Top Novelty@5: 0.99\n",
      " CBl Novelty@5: 0.92\n"
     ]
    }
   ],
   "source": [
    "print(f\" Als Novelty@5: {average_novelty_als:.2f}\")\n",
    "print(f\" Top Novelty@5: {average_novelty_top:.2f}\")\n",
    "print(f\" CBl Novelty@5: {average_novelty_cbl:.2f}\")"
   ]
  },
  {
   "cell_type": "markdown",
   "id": "5fcda3f4",
   "metadata": {},
   "source": [
    "<div class=\"alert alert-success\">\n",
    "<h2> Комментарий студента</h2>\n",
    "\n",
    "# На основе предоставленных метрик можно сделать следующие выводы о качестве рекомендаций трех типов:\n",
    "\n",
    "1. Топ Популярных\n",
    "#### Precision@5 и Recall@5:\n",
    "\n",
    "- Precision@5: 0.000\n",
    "- Recall@5: 0.000\n",
    "### Вывод: Модель топ-популярных треков практически не предсказывает правильные треки для пользователей. Это означает, что среди первых 5 рекомендаций практически нет тех треков, которые пользователь действительно слушал.\n",
    "#### Coverage:\n",
    "\n",
    "- Coverage для первых 100 строк: 0.01\n",
    "### Вывод: Модель топ-популярных треков предлагает очень ограниченный набор уникальных треков. Это может быть связано с тем, что популярные треки часто одинаковы для большинства пользователей.\n",
    "#### Novelty:\n",
    "\n",
    "- Novelty@5: 0.99\n",
    "### Вывод: Большинство рекомендаций являются новыми для пользователей, но поскольку эти рекомендации не совпадают с теми треками, которые пользователи действительно слушали, это мало полезно.\n",
    "2. ALS (Алгоритм Матричной Факторизации)\n",
    "#### Precision@5 и Recall@5:\n",
    "\n",
    "- Precision@5: 0.005\n",
    "- Recall@5: 0.008\n",
    "### Вывод: Модель ALS также предсказывает очень мало правильных треков для пользователей. Однако, она немного лучше, чем модель топ-популярных треков, хотя все еще очень низкие метрики.\n",
    "#### Coverage:\n",
    "\n",
    "- ALS Coverage для первых 100 строк: 0.02\n",
    "### Вывод: Модель ALS предлагает немного больше уникальных треков по сравнению с моделью топ-популярных треков, но это все еще низкий показатель.\n",
    "#### Novelty:\n",
    "\n",
    "- Als Novelty@5: 0.71\n",
    "### Вывод: Большинство рекомендаций являются новыми для пользователей, но снова это мало полезно, так как эти рекомендации не совпадают с теми треками, которые пользователи действительно слушали.\n",
    "3.CatBoost (Построенная с помощью CatBoost)\n",
    "#### Precision@5 и Recall@5:\n",
    "\n",
    "- Precision@5: 0.258\n",
    "- Recall@5: 0.440\n",
    "### Вывод: Модель CatBoost значительно лучше, чем модели топ-популярных треков и ALS. Она предсказывает гораздо больше правильных треков среди первых 2 рекомендаций. Это означает, что рекомендации более точные и релевантные для пользователей.\n",
    "#### Coverage:\n",
    "\n",
    "- CBL Coverage для первых 100 строк: 0.03\n",
    "### Вывод: Модель CatBoost предлагает больше уникальных треков по сравнению с моделями топ-популярных треков и ALS, что делает рекомендации более разнообразными.\n",
    "#### Novelty:\n",
    "\n",
    "- CBl Novelty@5: 0.92\n",
    "### Вывод: Большинство рекомендаций являются новыми для пользователей, но это менее важно, чем точность и релевантность рекомендаций. Новые треки могут быть полезными для пользователей, но они не являются главным показателем качества рекомендаций.\n",
    "\n",
    "## Общий Вывод\n",
    "### Топ Популярных Треки:\n",
    "\n",
    "Модель практически не предсказывает правильные треки для пользователей.\n",
    "Предложенный набор треков очень ограничен и не разнообразен.\n",
    "Большинство рекомендаций новые, но это мало полезно, так как они не совпадают с теми треками, которые пользователи действительно слушали.\n",
    "### ALS (Алгоритм Матричной Факторизации):\n",
    "\n",
    "Модель предсказывает немного больше правильных треков, но все еще очень низкие метрики.\n",
    "Набор уникальных треков немного больше, но это все еще очень низкий показатель.\n",
    "Большинство рекомендаций новые, но это мало полезно, так как эти рекомендации не совпадают с теми треками, которые пользователи действительно слушали.\n",
    "### CatBoost (Построенная с помощью CatBoost):\n",
    "\n",
    "Модель значительно лучше предсказывает правильные треки для пользователей.\n",
    "Она предлагает больше уникальных треков по сравнению с моделями топ-популярных треков и ALS.\n",
    "Большинство рекомендаций новые, но это менее важно, чем точность и релевантность рекомендаций.\n",
    "Рекомендации более точные и релевантные для пользователей, что делает модель более полезной.\n",
    "Рекомендации\n",
    "### Использование CatBoost:\n",
    "\n",
    "Модель CatBoost значительно лучше других моделей в предсказании правильных треков для пользователей.\n",
    "Она предлагает более разнообразные и релевантные рекомендации для пользователей, что делает рекомендации более полезными.\n",
    "Дополнительное Улучшение Модели:\n",
    "\n",
    "Можно попробовать улучшить модель CatBoost с помощью дополнительных методов, таких как кросс-валидация, настройка гиперпараметров и добавление новых признаков.\n",
    "Можно также попробовать комбинировать модели CatBoost с другими моделями для улучшения качества рекомендаций.\n",
    "Использование Вариативных Рекомендаций:\n",
    "\n",
    "Можно использовать комбинацию моделей для предсказания рекомендаций, чтобы улучшить качество рекомендаций.\n",
    "Например, можно использовать модель CatBoost для предсказания основных треков и модели топ-популярных треков для предсказания дополнительных рекомендаций.\n",
    "### Анализ Данных:\n",
    "\n",
    "Можно провести более детальный анализ данных для понимания причин низких метрик в моделях топ-популярных треков и ALS.\n",
    "Можно также провести анализ данных для понимания причин высокой точности и релевантности рекомендаций в модели CatBoost.\n",
    "Таким образом, использование модели CatBoost для рекомендаций может значительно улучшить качество рекомендаций и сделать их более полезными для пользователей.\n",
    "\n",
    "</div>"
   ]
  }
 ],
 "metadata": {
  "kernelspec": {
   "display_name": "py-3.12",
   "language": "python",
   "name": "python3"
  },
  "language_info": {
   "codemirror_mode": {
    "name": "ipython",
    "version": 3
   },
   "file_extension": ".py",
   "mimetype": "text/x-python",
   "name": "python",
   "nbconvert_exporter": "python",
   "pygments_lexer": "ipython3",
   "version": "3.12.7"
  }
 },
 "nbformat": 4,
 "nbformat_minor": 5
}
