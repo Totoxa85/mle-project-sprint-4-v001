{
 "cells": [
  {
   "cell_type": "markdown",
   "id": "f4095ae4-7294-4b28-853e-88d235002c97",
   "metadata": {},
   "source": [
    "# Инициализация"
   ]
  },
  {
   "cell_type": "markdown",
   "id": "2f2318d2-9df8-4911-915e-15b725c44f8a",
   "metadata": {},
   "source": [
    "Загружаем библиотеки необходимые для выполнения кода ноутбука."
   ]
  },
  {
   "cell_type": "code",
   "execution_count": 1,
   "id": "662d04e7-1b0b-4e4a-9ddf-4526d7fef119",
   "metadata": {},
   "outputs": [
    {
     "name": "stderr",
     "output_type": "stream",
     "text": [
      "/home/mle-user/sprint_4/lib/python3.10/site-packages/tqdm/auto.py:21: TqdmWarning: IProgress not found. Please update jupyter and ipywidgets. See https://ipywidgets.readthedocs.io/en/stable/user_install.html\n",
      "  from .autonotebook import tqdm as notebook_tqdm\n"
     ]
    }
   ],
   "source": [
    "import scipy\n",
    "import sklearn.preprocessing\n",
    "import matplotlib.pyplot as plt\n",
    "import numpy as np\n",
    "import pandas as pd\n",
    "from sklearn.preprocessing import MinMaxScaler\n",
    "from sklearn.metrics import mean_squared_error, mean_absolute_error\n",
    "from surprise import Dataset, Reader\n",
    "from surprise import accuracy\n",
    "from surprise import NormalPredictor\n",
    "from scipy.sparse import csr_matrix, coo_matrix\n",
    "from implicit.als import AlternatingLeastSquares\n",
    "from IPython.display import display\n",
    "from sklearn.metrics.pairwise import cosine_similarity\n",
    "from catboost import CatBoostClassifier, Pool\n",
    "from dotenv import load_dotenv\n",
    "import os\n",
    "import boto3\n",
    "from io import BytesIO"
   ]
  },
  {
   "cell_type": "code",
   "execution_count": 2,
   "id": "1a4ff82d",
   "metadata": {},
   "outputs": [
    {
     "data": {
      "text/plain": [
       "True"
      ]
     },
     "execution_count": 2,
     "metadata": {},
     "output_type": "execute_result"
    }
   ],
   "source": [
    "load_dotenv(\".env\")"
   ]
  },
  {
   "cell_type": "code",
   "execution_count": 3,
   "id": "beab1688",
   "metadata": {},
   "outputs": [],
   "source": [
    "session = boto3.Session(\n",
    "    aws_access_key_id=os.getenv(\"AWS_ACCESS_KEY_ID\"),\n",
    "    aws_secret_access_key=os.getenv(\"AWS_SECRET_ACCESS_KEY\"),\n",
    "    region_name=\"ru-central1\",\n",
    ")\n",
    "\n",
    "s3 = session.client(\n",
    "    \"s3\", \n",
    "    endpoint_url=os.getenv(\"S3_ENDPOINT_URL\"))"
   ]
  },
  {
   "cell_type": "code",
   "execution_count": 4,
   "id": "29cd2e8c",
   "metadata": {},
   "outputs": [],
   "source": [
    "# Путь к бакету и ключам\n",
    "BUCKET_NAME = \"s3-student-mle-20241219-9c48261c0c\"\n",
    "ITEMS_KEY = \"recsys/data/items.parquet\"\n",
    "EVENTS_KEY = \"recsys/data/events.parquet\""
   ]
  },
  {
   "cell_type": "markdown",
   "id": "bf80fbc5-b660-4fac-8fbb-a5cae77313b3",
   "metadata": {},
   "source": [
    "# === ЭТАП 1 ==="
   ]
  },
  {
   "cell_type": "markdown",
   "id": "5263a8b3-fe99-4204-8a2e-105182792c11",
   "metadata": {},
   "source": [
    "# Загрузка первичных данных"
   ]
  },
  {
   "cell_type": "markdown",
   "id": "1b54a6a5-1656-4e3c-99d1-49dc39451d33",
   "metadata": {},
   "source": [
    "Загружаем первичные данные из файлов:\n",
    "- tracks.parquet\n",
    "- catalog_names.parquet\n",
    "- interactions.parquet"
   ]
  },
  {
   "cell_type": "code",
   "execution_count": 5,
   "id": "5d4b8961-3f35-4e58-9d6b-3e2dbd2c4224",
   "metadata": {},
   "outputs": [],
   "source": [
    "# Чтение данных о треках\n",
    "tracks = pd.read_parquet('tracks.parquet')\n",
    "# Чтение данных о названиях\n",
    "catalog_names = pd.read_parquet('catalog_names.parquet')\n",
    "# Чтение данных о взаимодействиях пользователей\n",
    "interactions = pd.read_parquet('interactions.parquet')"
   ]
  },
  {
   "cell_type": "code",
   "execution_count": null,
   "id": "e431a12f",
   "metadata": {},
   "outputs": [],
   "source": [
    "print(tracks[[\"track_id\", \"albums\", \"artists\", \"genres\"]].sample(5, random_state=52).sort_values(\"track_id\").set_index(\"track_id\").to_string())"
   ]
  },
  {
   "cell_type": "code",
   "execution_count": null,
   "id": "e6d5b1f4",
   "metadata": {},
   "outputs": [],
   "source": [
    "print(catalog_names[[\"id\", \"type\", \"name\"]].sample(5, random_state=52).sort_values(\"id\").set_index(\"id\").to_string())"
   ]
  },
  {
   "cell_type": "code",
   "execution_count": null,
   "id": "126d0cf8",
   "metadata": {},
   "outputs": [],
   "source": [
    "print(interactions[[\"user_id\", \"track_id\", \"track_seq\", \"started_at\"]].sample(5, random_state=52).sort_values(\"user_id\").set_index([\"user_id\", \"track_id\"]).to_string())"
   ]
  },
  {
   "cell_type": "code",
   "execution_count": null,
   "id": "affa2c32",
   "metadata": {},
   "outputs": [],
   "source": [
    "tracks.info()"
   ]
  },
  {
   "cell_type": "code",
   "execution_count": null,
   "id": "e1f5d3e7",
   "metadata": {},
   "outputs": [],
   "source": [
    "catalog_names.info()"
   ]
  },
  {
   "cell_type": "code",
   "execution_count": null,
   "id": "1c3a1ee2",
   "metadata": {},
   "outputs": [],
   "source": [
    "interactions.info()"
   ]
  },
  {
   "cell_type": "markdown",
   "id": "e8f2a1f7-a05f-4f39-af90-5f4018aa6f9d",
   "metadata": {},
   "source": [
    "# Обзор данных"
   ]
  },
  {
   "cell_type": "code",
   "execution_count": null,
   "id": "d27a1572",
   "metadata": {},
   "outputs": [],
   "source": [
    "interactions.head(10)"
   ]
  },
  {
   "cell_type": "markdown",
   "id": "46a85307-896c-4fac-9fcf-f0dffa90889e",
   "metadata": {},
   "source": [
    "Проверяем данные, есть ли с ними явные проблемы."
   ]
  },
  {
   "cell_type": "code",
   "execution_count": null,
   "id": "112f176f",
   "metadata": {},
   "outputs": [],
   "source": [
    "# Проверка на наличие пустых списков\n",
    "empty_albums = tracks[tracks['albums'].apply(len) == 0]\n",
    "empty_artists = tracks[tracks['artists'].apply(len) == 0]\n",
    "empty_genres = tracks[tracks['genres'].apply(len) == 0]\n",
    "\n",
    "print(f\"Треки с пустыми альбомами: {len(empty_albums)}\")\n",
    "print(f\"Треки с пустыми исполнителями: {len(empty_artists)}\")\n",
    "print(f\"Треки с пустыми жанрами: {len(empty_genres)}\")"
   ]
  },
  {
   "cell_type": "code",
   "execution_count": 6,
   "id": "d5ef7eb9",
   "metadata": {},
   "outputs": [],
   "source": [
    "tracks['track_id'] = tracks['track_id'].astype('int32')"
   ]
  },
  {
   "cell_type": "code",
   "execution_count": null,
   "id": "d1f7e2d2",
   "metadata": {},
   "outputs": [],
   "source": [
    "# Удаление треков с пустыми списками (или другие действия)\n",
    "tracks = tracks[tracks['albums'].apply(len) > 0]\n",
    "tracks = tracks[tracks['artists'].apply(len) > 0]\n",
    "tracks = tracks[tracks['genres'].apply(len) > 0]"
   ]
  },
  {
   "cell_type": "markdown",
   "id": "318b573a-9e2d-4808-95db-60cfb8bbdb73",
   "metadata": {
    "editable": true,
    "slideshow": {
     "slide_type": ""
    },
    "tags": []
   },
   "source": [
    "# Выводы"
   ]
  },
  {
   "cell_type": "markdown",
   "id": "caa96e12-36a8-4401-8f11-98627a49ae9d",
   "metadata": {},
   "source": [
    "Приведём выводы по первому знакомству с данными:\n",
    "- есть ли с данными явные проблемы,\n",
    "- какие корректирующие действия (в целом) были предприняты."
   ]
  },
  {
   "cell_type": "markdown",
   "id": "07d12e36",
   "metadata": {},
   "source": [
    "<div class=\"alert alert-success\">\n",
    "<h2> Комментарий студента</h2>\n",
    "\n",
    "1) Выводы:\n",
    " - Данные разрознены по типам tracs и interactions\n",
    " - Есть пустые значения в tracs\n",
    "\n",
    "2) Действия:\n",
    " - Привел все идентификаторы к типу int32.\n",
    " - убрал данные с пустыми списками.\n",
    "\n",
    "</div>"
   ]
  },
  {
   "cell_type": "markdown",
   "id": "7bc3296b-eba6-4333-a78d-b9304aa87e3d",
   "metadata": {},
   "source": [
    "# === ЭТАП 2 ==="
   ]
  },
  {
   "cell_type": "markdown",
   "id": "68e73960-fd38-4e15-8db0-9a25c35dfd25",
   "metadata": {},
   "source": [
    "# EDA"
   ]
  },
  {
   "cell_type": "markdown",
   "id": "a30e823e-8e0f-4a76-a02e-8d1ba8bf0f8a",
   "metadata": {},
   "source": [
    "Распределение количества прослушанных треков."
   ]
  },
  {
   "cell_type": "code",
   "execution_count": null,
   "id": "31f44e66",
   "metadata": {},
   "outputs": [],
   "source": [
    "# Подсчет количества прослушиваний для каждого трека\n",
    "track_play_counts = interactions['track_id'].value_counts()\n",
    "\n",
    "# Описание распределения\n",
    "print(track_play_counts.describe())"
   ]
  },
  {
   "cell_type": "markdown",
   "id": "d765519a-18dd-4d30-9e29-cc2d84cacd79",
   "metadata": {},
   "source": [
    "Наиболее популярные треки"
   ]
  },
  {
   "cell_type": "code",
   "execution_count": null,
   "id": "483fec0d",
   "metadata": {},
   "outputs": [],
   "source": [
    "# Получение 10 самых популярных треков\n",
    "most_popular_tracks = track_play_counts.head(10)\n",
    "print(most_popular_tracks)"
   ]
  },
  {
   "cell_type": "markdown",
   "id": "b1c32a5a-d3be-4f96-8dd9-f7860951020c",
   "metadata": {},
   "source": [
    "Наиболее популярные жанры"
   ]
  },
  {
   "cell_type": "code",
   "execution_count": null,
   "id": "23a306a7",
   "metadata": {},
   "outputs": [],
   "source": [
    "# Объединение таблиц для получения названий жанров\n",
    "genre_counts = tracks.explode('genres').merge(catalog_names[catalog_names['type'] == 'genre'], left_on='genres', right_on='id', how='left')\n",
    "genre_counts = genre_counts['name'].value_counts()"
   ]
  },
  {
   "cell_type": "code",
   "execution_count": null,
   "id": "3c41d864",
   "metadata": {},
   "outputs": [],
   "source": [
    "# Получение 10 самых популярных жанров\n",
    "most_popular_genres = genre_counts.head(10)\n",
    "print(most_popular_genres)"
   ]
  },
  {
   "cell_type": "markdown",
   "id": "15254e66-e80e-473b-ba24-abebea5ccac7",
   "metadata": {},
   "source": [
    "Треки, которые никто не прослушал"
   ]
  },
  {
   "cell_type": "code",
   "execution_count": null,
   "id": "f8d9b8b7",
   "metadata": {},
   "outputs": [],
   "source": [
    "# Получение треков, которых нет в interactions\n",
    "unheard_tracks = tracks[~tracks['track_id'].isin(interactions['track_id'])]\n",
    "print(f\"Количество треков, которые никто не прослушал: {len(unheard_tracks)}\")"
   ]
  },
  {
   "cell_type": "markdown",
   "id": "0d850a07-ef1e-462f-891a-1cf89f2e24ef",
   "metadata": {},
   "source": [
    "# Преобразование данных"
   ]
  },
  {
   "cell_type": "markdown",
   "id": "fabcf8d2-1192-4df5-b20b-fbb84689f57a",
   "metadata": {},
   "source": [
    "Преобразуем данные в формат, более пригодный для дальнейшего использования в расчётах рекомендаций."
   ]
  },
  {
   "cell_type": "code",
   "execution_count": 7,
   "id": "e12ab1b0",
   "metadata": {},
   "outputs": [],
   "source": [
    "# Создание словарей для быстрого доступа к именам\n",
    "artist_names = dict(catalog_names[catalog_names['type'] == 'artist'][['id', 'name']].values)\n",
    "album_names = dict(catalog_names[catalog_names['type'] == 'album'][['id', 'name']].values)\n",
    "genre_names = dict(catalog_names[catalog_names['type'] == 'genre'][['id', 'name']].values)"
   ]
  },
  {
   "cell_type": "code",
   "execution_count": 8,
   "id": "477974f7",
   "metadata": {},
   "outputs": [],
   "source": [
    "# Функция для замены идентификаторов именами\n",
    "def replace_ids_with_names(ids, names_dict):\n",
    "    return [names_dict.get(id, 'Unknown') for id in ids]"
   ]
  },
  {
   "cell_type": "code",
   "execution_count": 9,
   "id": "a9a98bf7",
   "metadata": {},
   "outputs": [],
   "source": [
    "# Применение функции к столбцам\n",
    "tracks['artists'] = tracks['artists'].apply(lambda ids: replace_ids_with_names(ids, artist_names))\n",
    "tracks['albums'] = tracks['albums'].apply(lambda ids: replace_ids_with_names(ids, album_names))\n",
    "tracks['genres'] = tracks['genres'].apply(lambda ids: replace_ids_with_names(ids, genre_names))"
   ]
  },
  {
   "cell_type": "code",
   "execution_count": 10,
   "id": "e917b876",
   "metadata": {},
   "outputs": [],
   "source": [
    "# Переименование столбцов для ясности\n",
    "tracks.rename(columns={\n",
    "    'albums': 'album_names',\n",
    "    'artists': 'artist_names',\n",
    "    'genres': 'genre_names'\n",
    "}, inplace=True)"
   ]
  },
  {
   "cell_type": "code",
   "execution_count": 11,
   "id": "d7fb9e42",
   "metadata": {},
   "outputs": [
    {
     "name": "stdout",
     "output_type": "stream",
     "text": [
      "Треки с пустыми альбомами: 18\n",
      "Треки с пустыми исполнителями: 15369\n",
      "Треки с пустыми жанрами: 3687\n"
     ]
    }
   ],
   "source": [
    "# Проверка на наличие пустых списков\n",
    "empty_albums = tracks[tracks['album_names'].apply(len) == 0]\n",
    "empty_artists = tracks[tracks['artist_names'].apply(len) == 0]\n",
    "empty_genres = tracks[tracks['genre_names'].apply(len) == 0]\n",
    "\n",
    "print(f\"Треки с пустыми альбомами: {len(empty_albums)}\")\n",
    "print(f\"Треки с пустыми исполнителями: {len(empty_artists)}\")\n",
    "print(f\"Треки с пустыми жанрами: {len(empty_genres)}\")"
   ]
  },
  {
   "cell_type": "code",
   "execution_count": 12,
   "id": "b2d59e78",
   "metadata": {},
   "outputs": [],
   "source": [
    "# Функции для замены пустых списков на строки\n",
    "def replace_empty_albums(album_list):\n",
    "    return 'Unknown Album' if not album_list else ', '.join(album_list)\n",
    "\n",
    "def replace_empty_artists(artist_list):\n",
    "    return 'Unknown Singer' if not artist_list else ', '.join(artist_list)\n",
    "\n",
    "def replace_empty_genres(genre_list):\n",
    "    return 'Unknown Genre' if not genre_list else ', '.join(genre_list)\n",
    "\n",
    "# Применение функций к столбцам\n",
    "tracks['album_names'] = tracks['album_names'].apply(replace_empty_albums)\n",
    "tracks['artist_names'] = tracks['artist_names'].apply(replace_empty_artists)\n",
    "tracks['genre_names'] = tracks['genre_names'].apply(replace_empty_genres)"
   ]
  },
  {
   "cell_type": "code",
   "execution_count": 13,
   "id": "36455dee",
   "metadata": {},
   "outputs": [],
   "source": [
    "tracks=tracks.explode(\"album_names\")"
   ]
  },
  {
   "cell_type": "code",
   "execution_count": 14,
   "id": "9008f6be",
   "metadata": {},
   "outputs": [],
   "source": [
    "tracks=tracks.explode(\"artist_names\")"
   ]
  },
  {
   "cell_type": "code",
   "execution_count": 15,
   "id": "e72f4b6a",
   "metadata": {},
   "outputs": [],
   "source": [
    "tracks=tracks.explode(\"genre_names\")"
   ]
  },
  {
   "cell_type": "code",
   "execution_count": 16,
   "id": "7d910cb4",
   "metadata": {},
   "outputs": [
    {
     "data": {
      "text/html": [
       "<div>\n",
       "<style scoped>\n",
       "    .dataframe tbody tr th:only-of-type {\n",
       "        vertical-align: middle;\n",
       "    }\n",
       "\n",
       "    .dataframe tbody tr th {\n",
       "        vertical-align: top;\n",
       "    }\n",
       "\n",
       "    .dataframe thead th {\n",
       "        text-align: right;\n",
       "    }\n",
       "</style>\n",
       "<table border=\"1\" class=\"dataframe\">\n",
       "  <thead>\n",
       "    <tr style=\"text-align: right;\">\n",
       "      <th></th>\n",
       "      <th>track_id</th>\n",
       "      <th>album_names</th>\n",
       "      <th>artist_names</th>\n",
       "      <th>genre_names</th>\n",
       "    </tr>\n",
       "  </thead>\n",
       "  <tbody>\n",
       "    <tr>\n",
       "      <th>0</th>\n",
       "      <td>26</td>\n",
       "      <td>Taller Children, Taller Children</td>\n",
       "      <td>Elizabeth &amp; the Catapult</td>\n",
       "      <td>pop, folk</td>\n",
       "    </tr>\n",
       "    <tr>\n",
       "      <th>1</th>\n",
       "      <td>38</td>\n",
       "      <td>Taller Children, Taller Children</td>\n",
       "      <td>Elizabeth &amp; the Catapult</td>\n",
       "      <td>pop, folk</td>\n",
       "    </tr>\n",
       "    <tr>\n",
       "      <th>2</th>\n",
       "      <td>135</td>\n",
       "      <td>Wild Young Hearts, Wild Young Hearts, Wild You...</td>\n",
       "      <td>Noisettes</td>\n",
       "      <td>pop</td>\n",
       "    </tr>\n",
       "    <tr>\n",
       "      <th>3</th>\n",
       "      <td>136</td>\n",
       "      <td>Wild Young Hearts, Wild Young Hearts, Wild You...</td>\n",
       "      <td>Noisettes</td>\n",
       "      <td>pop</td>\n",
       "    </tr>\n",
       "    <tr>\n",
       "      <th>4</th>\n",
       "      <td>138</td>\n",
       "      <td>Wild Young Hearts, Wild Young Hearts, Don't Up...</td>\n",
       "      <td>Noisettes</td>\n",
       "      <td>pop</td>\n",
       "    </tr>\n",
       "    <tr>\n",
       "      <th>5</th>\n",
       "      <td>139</td>\n",
       "      <td>Wild Young Hearts, Wild Young Hearts, Wild You...</td>\n",
       "      <td>Noisettes</td>\n",
       "      <td>pop</td>\n",
       "    </tr>\n",
       "    <tr>\n",
       "      <th>6</th>\n",
       "      <td>140</td>\n",
       "      <td>Wild Young Hearts, Wild Young Hearts, Wild You...</td>\n",
       "      <td>Noisettes</td>\n",
       "      <td>pop</td>\n",
       "    </tr>\n",
       "    <tr>\n",
       "      <th>7</th>\n",
       "      <td>141</td>\n",
       "      <td>Wild Young Hearts, Wild Young Hearts, I Am Wor...</td>\n",
       "      <td>Noisettes</td>\n",
       "      <td>pop</td>\n",
       "    </tr>\n",
       "    <tr>\n",
       "      <th>8</th>\n",
       "      <td>143</td>\n",
       "      <td>Wild Young Hearts, Wild Young Hearts, Wild You...</td>\n",
       "      <td>Noisettes</td>\n",
       "      <td>pop</td>\n",
       "    </tr>\n",
       "    <tr>\n",
       "      <th>9</th>\n",
       "      <td>144</td>\n",
       "      <td>Lonesome Crow, Lonesome Crow</td>\n",
       "      <td>Scorpions</td>\n",
       "      <td>hardrock, allrock</td>\n",
       "    </tr>\n",
       "  </tbody>\n",
       "</table>\n",
       "</div>"
      ],
      "text/plain": [
       "   track_id                                        album_names  \\\n",
       "0        26                   Taller Children, Taller Children   \n",
       "1        38                   Taller Children, Taller Children   \n",
       "2       135  Wild Young Hearts, Wild Young Hearts, Wild You...   \n",
       "3       136  Wild Young Hearts, Wild Young Hearts, Wild You...   \n",
       "4       138  Wild Young Hearts, Wild Young Hearts, Don't Up...   \n",
       "5       139  Wild Young Hearts, Wild Young Hearts, Wild You...   \n",
       "6       140  Wild Young Hearts, Wild Young Hearts, Wild You...   \n",
       "7       141  Wild Young Hearts, Wild Young Hearts, I Am Wor...   \n",
       "8       143  Wild Young Hearts, Wild Young Hearts, Wild You...   \n",
       "9       144                       Lonesome Crow, Lonesome Crow   \n",
       "\n",
       "               artist_names        genre_names  \n",
       "0  Elizabeth & the Catapult          pop, folk  \n",
       "1  Elizabeth & the Catapult          pop, folk  \n",
       "2                 Noisettes                pop  \n",
       "3                 Noisettes                pop  \n",
       "4                 Noisettes                pop  \n",
       "5                 Noisettes                pop  \n",
       "6                 Noisettes                pop  \n",
       "7                 Noisettes                pop  \n",
       "8                 Noisettes                pop  \n",
       "9                 Scorpions  hardrock, allrock  "
      ]
     },
     "execution_count": 16,
     "metadata": {},
     "output_type": "execute_result"
    }
   ],
   "source": [
    "tracks.head(10)"
   ]
  },
  {
   "cell_type": "code",
   "execution_count": null,
   "id": "cb4086a1",
   "metadata": {},
   "outputs": [],
   "source": [
    "tracks = tracks.drop_duplicates()"
   ]
  },
  {
   "cell_type": "markdown",
   "id": "4d1be653-eed8-4fa0-a9c5-3811b080d71d",
   "metadata": {},
   "source": [
    "# Сохранение данных"
   ]
  },
  {
   "cell_type": "markdown",
   "id": "36f1314a-3af3-4faf-a0b1-3045173d1500",
   "metadata": {},
   "source": [
    "Сохраним данные в двух файлах в персональном S3-бакете по пути `recsys/data/`:\n",
    "- `items.parquet` — все данные о музыкальных треках,\n",
    "- `events.parquet` — все данные о взаимодействиях."
   ]
  },
  {
   "cell_type": "code",
   "execution_count": 17,
   "id": "374a774f",
   "metadata": {},
   "outputs": [],
   "source": [
    "tracks.to_parquet(ITEMS_KEY)\n",
    "interactions.to_parquet(EVENTS_KEY)"
   ]
  },
  {
   "cell_type": "code",
   "execution_count": null,
   "id": "9f77af17-7705-4fae-9aad-db579b39faad",
   "metadata": {},
   "outputs": [],
   "source": [
    "# Сохранение данных о треках в BytesIO\n",
    "buffer_items = BytesIO()\n",
    "tracks.to_parquet(buffer_items, engine='pyarrow')\n",
    "buffer_items.seek(0)\n",
    "\n",
    "# Загрузка данных о треках в S3\n",
    "s3.put_object(\n",
    "    Bucket=BUCKET_NAME,\n",
    "    Key=ITEMS_KEY,\n",
    "    Body=buffer_items.getvalue()\n",
    ")"
   ]
  },
  {
   "cell_type": "code",
   "execution_count": null,
   "id": "db1a6f3e",
   "metadata": {},
   "outputs": [],
   "source": [
    "# Сохранение взаимодействий в BytesIO\n",
    "buffer_events = BytesIO()\n",
    "interactions.to_parquet(buffer_events, engine='pyarrow')\n",
    "buffer_events.seek(0)\n",
    "\n",
    "# Загрузка данных о взаимодействиях в S3\n",
    "s3.put_object(\n",
    "    Bucket=BUCKET_NAME,\n",
    "    Key=EVENTS_KEY,\n",
    "    Body=buffer_events.getvalue()\n",
    ")"
   ]
  },
  {
   "cell_type": "markdown",
   "id": "72ecbbed-c560-44d9-9c14-86c7dc76f399",
   "metadata": {},
   "source": [
    "# Очистка памяти"
   ]
  },
  {
   "cell_type": "markdown",
   "id": "b5358ede-ba6e-4c4f-bd73-5b9344f0ba79",
   "metadata": {},
   "source": [
    "Здесь, может понадобится очистка памяти для высвобождения ресурсов для выполнения кода ниже. \n",
    "\n",
    "Приведите соответствующие код, комментарии, например:\n",
    "- код для удаление более ненужных переменных,\n",
    "- комментарий, что следует перезапустить kernel, выполнить такие-то начальные секции и продолжить с этапа 3."
   ]
  },
  {
   "cell_type": "code",
   "execution_count": 18,
   "id": "767fe920-e12e-4ad8-b04e-56e8091fac9f",
   "metadata": {},
   "outputs": [
    {
     "data": {
      "text/plain": [
       "0"
      ]
     },
     "execution_count": 18,
     "metadata": {},
     "output_type": "execute_result"
    }
   ],
   "source": [
    "# Удаление ненужных переменных\n",
    "del interactions\n",
    "del catalog_names\n",
    "del tracks\n",
    "\n",
    "# Принудительная сборка мусора\n",
    "import gc\n",
    "gc.collect()"
   ]
  },
  {
   "cell_type": "markdown",
   "id": "d664728a",
   "metadata": {},
   "source": [
    "### Шаги для перезапуска ядра:\n",
    "\n",
    "1. Перейдите в меню Jupyter Notebook: Kernel -> Restart Kernel.\n",
    "\n",
    "2. Выберите опцию Restart and clear output, если хотите очистить все выводы ячеек.\n",
    "\n",
    "3. После перезапуска ядра выполните секцию Инициализация и продолжите с этапа 3.\n",
    "\n",
    "- После перезапуска ядра выполните необходимые начальные секции, которые настраивают сессию boto3 и загружают необходимые данные из S3:"
   ]
  },
  {
   "cell_type": "markdown",
   "id": "708503df-ee89-4cf3-8489-093dc478e2a8",
   "metadata": {},
   "source": [
    "# === ЭТАП 3 ==="
   ]
  },
  {
   "cell_type": "markdown",
   "id": "fd77de22-e10f-4b42-85c1-8fb6f805fe68",
   "metadata": {},
   "source": [
    "# Загрузка данных"
   ]
  },
  {
   "cell_type": "markdown",
   "id": "780a4241-1ecd-4a3e-bbb3-fc2f6ca94f68",
   "metadata": {},
   "source": [
    "Если необходимо, то загружаем items.parquet, events.parquet."
   ]
  },
  {
   "cell_type": "code",
   "execution_count": null,
   "id": "f19fc8a5-bd2c-40d7-864a-ee75aca6d512",
   "metadata": {},
   "outputs": [],
   "source": [
    "# Загрузка items.parquet\n",
    "response = s3.get_object(Bucket=BUCKET_NAME, Key=ITEMS_KEY)\n",
    "buffer_items = BytesIO(response['Body'].read())\n",
    "items = pd.read_parquet(buffer_items)"
   ]
  },
  {
   "cell_type": "code",
   "execution_count": null,
   "id": "5db1e801-5845-4ce3-86f2-c2fa30f68cc5",
   "metadata": {},
   "outputs": [],
   "source": [
    "# Загрузка events.parquet\n",
    "response = s3.get_object(Bucket=BUCKET_NAME, Key=EVENTS_KEY)\n",
    "buffer_events = BytesIO(response['Body'].read())\n",
    "events = pd.read_parquet(buffer_events)"
   ]
  },
  {
   "cell_type": "code",
   "execution_count": 19,
   "id": "0397ecdb",
   "metadata": {},
   "outputs": [],
   "source": [
    "# Чтение данных о треках\n",
    "items = pd.read_parquet('recsys/data/items.parquet')\n",
    "# Чтение данных о названиях\n",
    "events = pd.read_parquet('recsys/data/events.parquet')"
   ]
  },
  {
   "cell_type": "code",
   "execution_count": null,
   "id": "c9c6d6d0",
   "metadata": {},
   "outputs": [],
   "source": [
    "# Принудительная сборка мусора\n",
    "import gc\n",
    "gc.collect()"
   ]
  },
  {
   "cell_type": "markdown",
   "id": "a694c023-6477-490b-939d-1cfa6f5f1b72",
   "metadata": {},
   "source": [
    "# Разбиение данных"
   ]
  },
  {
   "cell_type": "markdown",
   "id": "fbd5f6e0-54e7-4428-8678-eabce505d82c",
   "metadata": {},
   "source": [
    "Разбиваем данные на тренировочную, тестовую выборки."
   ]
  },
  {
   "cell_type": "code",
   "execution_count": 20,
   "id": "d55332ae",
   "metadata": {},
   "outputs": [],
   "source": [
    "# Преобразуем столбец started_at в datetime\n",
    "events['started_at'] = pd.to_datetime(events['started_at'])"
   ]
  },
  {
   "cell_type": "code",
   "execution_count": 21,
   "id": "75c3a390",
   "metadata": {},
   "outputs": [],
   "source": [
    "from datetime import datetime"
   ]
  },
  {
   "cell_type": "code",
   "execution_count": 22,
   "id": "617d94ed",
   "metadata": {},
   "outputs": [],
   "source": [
    "# Разделение данных\n",
    "train_cutoff_date = datetime(2022, 12, 16)\n",
    "train_data = events[events['started_at'] < train_cutoff_date]\n",
    "test_data = events[events['started_at'] >= train_cutoff_date]"
   ]
  },
  {
   "cell_type": "markdown",
   "id": "9131c7e6-8852-4556-b510-51f7253cc299",
   "metadata": {},
   "source": [
    "# Топ популярных"
   ]
  },
  {
   "cell_type": "markdown",
   "id": "dd70d43a-88cc-4719-b291-feaed7136f30",
   "metadata": {},
   "source": [
    "Рассчитаем рекомендации как топ популярных."
   ]
  },
  {
   "cell_type": "code",
   "execution_count": 23,
   "id": "c0925d4c",
   "metadata": {},
   "outputs": [],
   "source": [
    "# Подсчет количества прослушиваний для каждого трека\n",
    "track_popularity = train_data['track_id'].value_counts().reset_index()\n",
    "track_popularity.columns = ['track_id', 'popularity']\n",
    "top_popular = track_popularity.head(100)  # Топ 100 самых популярных треков\n",
    "\n",
    "# Сохранение в файл\n",
    "top_popular.to_parquet('recsys/recommendations/top_popular.parquet')"
   ]
  },
  {
   "cell_type": "markdown",
   "id": "2ad231f2-6158-421a-b7fa-01d8bc3ed572",
   "metadata": {},
   "source": [
    "# Персональные"
   ]
  },
  {
   "cell_type": "markdown",
   "id": "86159460-cd9d-4b63-8248-604ea3c9aebf",
   "metadata": {},
   "source": [
    "Рассчитаем персональные рекомендации."
   ]
  },
  {
   "cell_type": "code",
   "execution_count": 25,
   "id": "0011dab0",
   "metadata": {},
   "outputs": [
    {
     "name": "stderr",
     "output_type": "stream",
     "text": [
      "/tmp/ipykernel_2032/2165694531.py:5: SettingWithCopyWarning: \n",
      "A value is trying to be set on a copy of a slice from a DataFrame.\n",
      "Try using .loc[row_indexer,col_indexer] = value instead\n",
      "\n",
      "See the caveats in the documentation: https://pandas.pydata.org/pandas-docs/stable/user_guide/indexing.html#returning-a-view-versus-a-copy\n",
      "  train_data[\"user_id_enc\"] = user_encoder.transform(train_data[\"user_id\"])\n",
      "/tmp/ipykernel_2032/2165694531.py:6: SettingWithCopyWarning: \n",
      "A value is trying to be set on a copy of a slice from a DataFrame.\n",
      "Try using .loc[row_indexer,col_indexer] = value instead\n",
      "\n",
      "See the caveats in the documentation: https://pandas.pydata.org/pandas-docs/stable/user_guide/indexing.html#returning-a-view-versus-a-copy\n",
      "  test_data[\"user_id_enc\"] = user_encoder.transform(test_data[\"user_id\"])\n"
     ]
    }
   ],
   "source": [
    "# Перекодируем идентификаторы пользователей:\n",
    "# из имеющихся в последовательность 0, 1, 2, ...\n",
    "user_encoder = sklearn.preprocessing.LabelEncoder()\n",
    "user_encoder.fit(events[\"user_id\"])\n",
    "train_data[\"user_id_enc\"] = user_encoder.transform(train_data[\"user_id\"])\n",
    "test_data[\"user_id_enc\"] = user_encoder.transform(test_data[\"user_id\"])\n"
   ]
  },
  {
   "cell_type": "code",
   "execution_count": 26,
   "id": "e0beb211",
   "metadata": {},
   "outputs": [
    {
     "name": "stderr",
     "output_type": "stream",
     "text": [
      "/tmp/ipykernel_2032/3620722601.py:6: SettingWithCopyWarning: \n",
      "A value is trying to be set on a copy of a slice from a DataFrame.\n",
      "Try using .loc[row_indexer,col_indexer] = value instead\n",
      "\n",
      "See the caveats in the documentation: https://pandas.pydata.org/pandas-docs/stable/user_guide/indexing.html#returning-a-view-versus-a-copy\n",
      "  train_data[\"track_id_enc\"] = item_encoder.transform(train_data[\"track_id\"])\n",
      "/tmp/ipykernel_2032/3620722601.py:7: SettingWithCopyWarning: \n",
      "A value is trying to be set on a copy of a slice from a DataFrame.\n",
      "Try using .loc[row_indexer,col_indexer] = value instead\n",
      "\n",
      "See the caveats in the documentation: https://pandas.pydata.org/pandas-docs/stable/user_guide/indexing.html#returning-a-view-versus-a-copy\n",
      "  test_data[\"track_id_enc\"] = item_encoder.transform(test_data[\"track_id\"])\n"
     ]
    }
   ],
   "source": [
    "# Перекодируем идентификаторы объектов:\n",
    "# из имеющихся в последовательность 0, 1, 2, ...\n",
    "item_encoder = sklearn.preprocessing.LabelEncoder()\n",
    "item_encoder.fit(items[\"track_id\"])\n",
    "items[\"track_id_enc\"] = item_encoder.transform(items[\"track_id\"])\n",
    "train_data[\"track_id_enc\"] = item_encoder.transform(train_data[\"track_id\"])\n",
    "test_data[\"track_id_enc\"] = item_encoder.transform(test_data[\"track_id\"])"
   ]
  },
  {
   "cell_type": "markdown",
   "id": "5f09dc7e-7c91-4355-860a-b9cfb9f33f15",
   "metadata": {},
   "source": [
    "# Похожие"
   ]
  },
  {
   "cell_type": "markdown",
   "id": "1dfcb683-b440-40a8-9975-894156a53872",
   "metadata": {},
   "source": [
    "Рассчитаем похожие, они позже пригодятся для онлайн-рекомендаций."
   ]
  },
  {
   "cell_type": "code",
   "execution_count": null,
   "id": "a75d07ee-4b12-4ce5-aa85-e45cb7a7a4f0",
   "metadata": {},
   "outputs": [],
   "source": []
  },
  {
   "cell_type": "code",
   "execution_count": null,
   "id": "ce370904-4c49-4152-8706-416074ea9b9a",
   "metadata": {},
   "outputs": [],
   "source": []
  },
  {
   "cell_type": "markdown",
   "id": "0087a3e7-ca9f-42cd-944c-944222c1baef",
   "metadata": {},
   "source": [
    "# Построение признаков"
   ]
  },
  {
   "cell_type": "markdown",
   "id": "e82a32e1-b90b-4eaf-9439-fc8deab9f34b",
   "metadata": {},
   "source": [
    "Построим три признака, можно больше, для ранжирующей модели."
   ]
  },
  {
   "cell_type": "code",
   "execution_count": null,
   "id": "05b4ae84-406a-44a4-abec-4f80f93e3004",
   "metadata": {},
   "outputs": [],
   "source": []
  },
  {
   "cell_type": "code",
   "execution_count": null,
   "id": "00f84c35-f544-4c3d-ad53-9b1d2b684c75",
   "metadata": {},
   "outputs": [],
   "source": []
  },
  {
   "cell_type": "markdown",
   "id": "47bcf88d-b236-46f0-a6f3-38ddd64895fe",
   "metadata": {},
   "source": [
    "# Ранжирование рекомендаций"
   ]
  },
  {
   "cell_type": "markdown",
   "id": "e8cd8223-3418-4493-8c87-1f76286ebda0",
   "metadata": {},
   "source": [
    "Построим ранжирующую модель, чтобы сделать рекомендации более точными. Отранжируем рекомендации."
   ]
  },
  {
   "cell_type": "code",
   "execution_count": null,
   "id": "79f1dd92-32a9-463d-827e-8bb9ee5bbb54",
   "metadata": {},
   "outputs": [],
   "source": []
  },
  {
   "cell_type": "code",
   "execution_count": null,
   "id": "6dbe4db4-1ac5-44da-a13c-8e7f9768ab73",
   "metadata": {},
   "outputs": [],
   "source": []
  },
  {
   "cell_type": "markdown",
   "id": "b3c84071-45b5-4a15-a683-e0ab034a3128",
   "metadata": {},
   "source": [
    "# Оценка качества"
   ]
  },
  {
   "cell_type": "markdown",
   "id": "1b107fe4-554e-42b1-87d9-c435a52bb77a",
   "metadata": {},
   "source": [
    "Проверим оценку качества трёх типов рекомендаций: \n",
    "\n",
    "- топ популярных,\n",
    "- персональных, полученных при помощи ALS,\n",
    "- итоговых\n",
    "  \n",
    "по четырем метрикам: recall, precision, coverage, novelty."
   ]
  },
  {
   "cell_type": "code",
   "execution_count": null,
   "id": "94d6f388-aecb-443e-8647-14014e932d4d",
   "metadata": {},
   "outputs": [],
   "source": []
  },
  {
   "cell_type": "code",
   "execution_count": null,
   "id": "26df411f-14c1-4848-8797-f37afe449cc6",
   "metadata": {},
   "outputs": [],
   "source": []
  },
  {
   "cell_type": "markdown",
   "id": "f1c8d38c-32b0-46a4-96f0-cd01dac708bc",
   "metadata": {},
   "source": [
    "# === Выводы, метрики ==="
   ]
  },
  {
   "cell_type": "markdown",
   "id": "f7d7d5d8-7d1e-4fdf-a6cd-83e5ce92c684",
   "metadata": {},
   "source": [
    "Основные выводы при работе над расчётом рекомендаций, рассчитанные метрики."
   ]
  },
  {
   "cell_type": "code",
   "execution_count": null,
   "id": "6403097d-db36-46d9-8952-613c9bd51b05",
   "metadata": {},
   "outputs": [],
   "source": []
  },
  {
   "cell_type": "code",
   "execution_count": null,
   "id": "986cfdd5-6f2e-4de6-8666-85804c87d04b",
   "metadata": {},
   "outputs": [],
   "source": []
  }
 ],
 "metadata": {
  "kernelspec": {
   "display_name": "sprint_4",
   "language": "python",
   "name": "python3"
  },
  "language_info": {
   "codemirror_mode": {
    "name": "ipython",
    "version": 3
   },
   "file_extension": ".py",
   "mimetype": "text/x-python",
   "name": "python",
   "nbconvert_exporter": "python",
   "pygments_lexer": "ipython3",
   "version": "3.10.12"
  }
 },
 "nbformat": 4,
 "nbformat_minor": 5
}
